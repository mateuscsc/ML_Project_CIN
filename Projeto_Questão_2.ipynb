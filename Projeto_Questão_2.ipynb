{
  "cells": [
    {
      "cell_type": "markdown",
      "metadata": {
        "id": "kSigm-HxkvG9"
      },
      "source": [
        "#Questão - 02\n",
        "\n",
        "Realizar a comparação dos algoritmos K-NN, Janela de Parsen, Bayesiano Gaussiano e regressão logistica na base Image Segmentation data set.\n",
        "\n",
        "- Realizar a tarefa de classificação da base de dados Image Segmentation (https://archive.ics.uci.edu/ml/datasets/Image+Segmentation) com os modelos K-NN, Bayesiano Gaussiano (com variáveis independentes), Bayesiano baseado em  janela de Parsen e Regressão logistica. "
      ]
    },
    {
      "cell_type": "markdown",
      "metadata": {
        "id": "mrVGs6gToBzn"
      },
      "source": [
        "# MEMBROS DA EQUIPE:\n",
        "\n",
        " \n",
        " \n",
        "\n",
        "*   José Rafael de Santana\n",
        "*   Lucas Geraldo Cilento\n",
        "*   Mateus da Costa Silva Cabral\n"
      ]
    },
    {
      "cell_type": "code",
      "execution_count": 313,
      "metadata": {
        "colab": {
          "base_uri": "https://localhost:8080/"
        },
        "id": "xXI12uUka17m",
        "outputId": "a633f1cd-446b-4f90-ca25-d27a0c773c4a"
      },
      "outputs": [
        {
          "output_type": "stream",
          "name": "stdout",
          "text": [
            "Requirement already satisfied: scikit-posthocs in /usr/local/lib/python3.7/dist-packages (0.6.7)\n",
            "Requirement already satisfied: scipy in /usr/local/lib/python3.7/dist-packages (from scikit-posthocs) (1.4.1)\n",
            "Requirement already satisfied: numpy in /usr/local/lib/python3.7/dist-packages (from scikit-posthocs) (1.19.5)\n",
            "Requirement already satisfied: statsmodels in /usr/local/lib/python3.7/dist-packages (from scikit-posthocs) (0.10.2)\n",
            "Requirement already satisfied: pandas>=0.20.0 in /usr/local/lib/python3.7/dist-packages (from scikit-posthocs) (1.1.5)\n",
            "Requirement already satisfied: seaborn in /usr/local/lib/python3.7/dist-packages (from scikit-posthocs) (0.11.2)\n",
            "Requirement already satisfied: matplotlib in /usr/local/lib/python3.7/dist-packages (from scikit-posthocs) (3.2.2)\n",
            "Requirement already satisfied: pytz>=2017.2 in /usr/local/lib/python3.7/dist-packages (from pandas>=0.20.0->scikit-posthocs) (2018.9)\n",
            "Requirement already satisfied: python-dateutil>=2.7.3 in /usr/local/lib/python3.7/dist-packages (from pandas>=0.20.0->scikit-posthocs) (2.8.2)\n",
            "Requirement already satisfied: six>=1.5 in /usr/local/lib/python3.7/dist-packages (from python-dateutil>=2.7.3->pandas>=0.20.0->scikit-posthocs) (1.15.0)\n",
            "Requirement already satisfied: cycler>=0.10 in /usr/local/lib/python3.7/dist-packages (from matplotlib->scikit-posthocs) (0.11.0)\n",
            "Requirement already satisfied: pyparsing!=2.0.4,!=2.1.2,!=2.1.6,>=2.0.1 in /usr/local/lib/python3.7/dist-packages (from matplotlib->scikit-posthocs) (3.0.7)\n",
            "Requirement already satisfied: kiwisolver>=1.0.1 in /usr/local/lib/python3.7/dist-packages (from matplotlib->scikit-posthocs) (1.3.2)\n",
            "Requirement already satisfied: patsy>=0.4.0 in /usr/local/lib/python3.7/dist-packages (from statsmodels->scikit-posthocs) (0.5.2)\n"
          ]
        }
      ],
      "source": [
        "!pip install scikit-posthocs"
      ]
    },
    {
      "cell_type": "code",
      "execution_count": 314,
      "metadata": {
        "id": "v9ip1PYRZ6Xc"
      },
      "outputs": [],
      "source": [
        "import warnings\n",
        "warnings.simplefilter(\"ignore\", UserWarning)\n",
        "\n",
        "#import the_module_that_warns"
      ]
    },
    {
      "cell_type": "code",
      "execution_count": 315,
      "metadata": {
        "id": "Eq4Yr5tNjxCR"
      },
      "outputs": [],
      "source": [
        "import urllib.request\n",
        "from sklearn.linear_model import LogisticRegression\n",
        "from sklearn.naive_bayes import GaussianNB\n",
        "from sklearn.ensemble import VotingClassifier\n",
        "from scipy import stats\n",
        "from sklearn.base import TransformerMixin, BaseEstimator, ClassifierMixin\n",
        "import numpy as np\n",
        "from sklearn.pipeline import Pipeline\n",
        "from sklearn.linear_model import LogisticRegression\n",
        "from sklearn.ensemble import VotingClassifier\n",
        "import pandas as pd\n",
        "from sklearn.model_selection import train_test_split\n",
        "from sklearn.neighbors import KNeighborsClassifier\n",
        "from sklearn import metrics\n",
        "from sklearn.model_selection import GridSearchCV, cross_validate, StratifiedKFold,RepeatedStratifiedKFold\n",
        "import scikit_posthocs as sp\n",
        "import statsmodels.stats.api as sms\n",
        "from scipy import stats\n",
        "from sklearn.neighbors import KernelDensity\n",
        "\n",
        "\n",
        "\n",
        "import matplotlib.pyplot as plt\n",
        "import seaborn as sns\n",
        "import itertools\n",
        "import matplotlib.pyplot as plt\n",
        "from sklearn.metrics import confusion_matrix, ConfusionMatrixDisplay\n"
      ]
    },
    {
      "cell_type": "code",
      "execution_count": 316,
      "metadata": {
        "id": "xW6XF_gOlQrk"
      },
      "outputs": [],
      "source": [
        "raw_data = pd.read_csv(\"https://archive.ics.uci.edu/ml/machine-learning-databases/image/segmentation.test\", header=2)"
      ]
    },
    {
      "cell_type": "code",
      "execution_count": 317,
      "metadata": {
        "colab": {
          "base_uri": "https://localhost:8080/",
          "height": 540
        },
        "id": "dCHxY1LrtVLG",
        "outputId": "691b77df-82b1-44d3-9849-6370f539dc9d"
      },
      "outputs": [
        {
          "output_type": "execute_result",
          "data": {
            "text/html": [
              "\n",
              "  <div id=\"df-71c35125-6722-4b18-9262-94027a045415\">\n",
              "    <div class=\"colab-df-container\">\n",
              "      <div>\n",
              "<style scoped>\n",
              "    .dataframe tbody tr th:only-of-type {\n",
              "        vertical-align: middle;\n",
              "    }\n",
              "\n",
              "    .dataframe tbody tr th {\n",
              "        vertical-align: top;\n",
              "    }\n",
              "\n",
              "    .dataframe thead th {\n",
              "        text-align: right;\n",
              "    }\n",
              "</style>\n",
              "<table border=\"1\" class=\"dataframe\">\n",
              "  <thead>\n",
              "    <tr style=\"text-align: right;\">\n",
              "      <th></th>\n",
              "      <th>REGION-CENTROID-COL</th>\n",
              "      <th>REGION-CENTROID-ROW</th>\n",
              "      <th>REGION-PIXEL-COUNT</th>\n",
              "      <th>SHORT-LINE-DENSITY-5</th>\n",
              "      <th>SHORT-LINE-DENSITY-2</th>\n",
              "      <th>VEDGE-MEAN</th>\n",
              "      <th>VEDGE-SD</th>\n",
              "      <th>HEDGE-MEAN</th>\n",
              "      <th>HEDGE-SD</th>\n",
              "      <th>INTENSITY-MEAN</th>\n",
              "      <th>RAWRED-MEAN</th>\n",
              "      <th>RAWBLUE-MEAN</th>\n",
              "      <th>RAWGREEN-MEAN</th>\n",
              "      <th>EXRED-MEAN</th>\n",
              "      <th>EXBLUE-MEAN</th>\n",
              "      <th>EXGREEN-MEAN</th>\n",
              "      <th>VALUE-MEAN</th>\n",
              "      <th>SATURATION-MEAN</th>\n",
              "      <th>HUE-MEAN</th>\n",
              "    </tr>\n",
              "  </thead>\n",
              "  <tbody>\n",
              "    <tr>\n",
              "      <th>GRASS</th>\n",
              "      <td>110.0</td>\n",
              "      <td>189.0</td>\n",
              "      <td>9</td>\n",
              "      <td>0.000000</td>\n",
              "      <td>0.0</td>\n",
              "      <td>1.000000</td>\n",
              "      <td>0.666667</td>\n",
              "      <td>1.222222</td>\n",
              "      <td>1.186342</td>\n",
              "      <td>12.925926</td>\n",
              "      <td>10.888889</td>\n",
              "      <td>9.222222</td>\n",
              "      <td>18.666668</td>\n",
              "      <td>-6.111111</td>\n",
              "      <td>-11.111111</td>\n",
              "      <td>17.222221</td>\n",
              "      <td>18.666668</td>\n",
              "      <td>0.508139</td>\n",
              "      <td>1.910864</td>\n",
              "    </tr>\n",
              "    <tr>\n",
              "      <th>GRASS</th>\n",
              "      <td>86.0</td>\n",
              "      <td>187.0</td>\n",
              "      <td>9</td>\n",
              "      <td>0.000000</td>\n",
              "      <td>0.0</td>\n",
              "      <td>1.111111</td>\n",
              "      <td>0.720082</td>\n",
              "      <td>1.444444</td>\n",
              "      <td>0.750309</td>\n",
              "      <td>13.740741</td>\n",
              "      <td>11.666667</td>\n",
              "      <td>10.333334</td>\n",
              "      <td>19.222221</td>\n",
              "      <td>-6.222222</td>\n",
              "      <td>-10.222222</td>\n",
              "      <td>16.444445</td>\n",
              "      <td>19.222221</td>\n",
              "      <td>0.463329</td>\n",
              "      <td>1.941465</td>\n",
              "    </tr>\n",
              "    <tr>\n",
              "      <th>GRASS</th>\n",
              "      <td>225.0</td>\n",
              "      <td>244.0</td>\n",
              "      <td>9</td>\n",
              "      <td>0.000000</td>\n",
              "      <td>0.0</td>\n",
              "      <td>3.388889</td>\n",
              "      <td>2.195113</td>\n",
              "      <td>3.000000</td>\n",
              "      <td>1.520234</td>\n",
              "      <td>12.259259</td>\n",
              "      <td>10.333334</td>\n",
              "      <td>9.333334</td>\n",
              "      <td>17.111110</td>\n",
              "      <td>-5.777778</td>\n",
              "      <td>-8.777778</td>\n",
              "      <td>14.555555</td>\n",
              "      <td>17.111110</td>\n",
              "      <td>0.480149</td>\n",
              "      <td>1.987902</td>\n",
              "    </tr>\n",
              "    <tr>\n",
              "      <th>GRASS</th>\n",
              "      <td>47.0</td>\n",
              "      <td>232.0</td>\n",
              "      <td>9</td>\n",
              "      <td>0.000000</td>\n",
              "      <td>0.0</td>\n",
              "      <td>1.277778</td>\n",
              "      <td>1.254621</td>\n",
              "      <td>1.000000</td>\n",
              "      <td>0.894427</td>\n",
              "      <td>12.703704</td>\n",
              "      <td>11.000000</td>\n",
              "      <td>9.000000</td>\n",
              "      <td>18.111110</td>\n",
              "      <td>-5.111111</td>\n",
              "      <td>-11.111111</td>\n",
              "      <td>16.222221</td>\n",
              "      <td>18.111110</td>\n",
              "      <td>0.500966</td>\n",
              "      <td>1.875362</td>\n",
              "    </tr>\n",
              "    <tr>\n",
              "      <th>GRASS</th>\n",
              "      <td>97.0</td>\n",
              "      <td>186.0</td>\n",
              "      <td>9</td>\n",
              "      <td>0.000000</td>\n",
              "      <td>0.0</td>\n",
              "      <td>1.166667</td>\n",
              "      <td>0.691215</td>\n",
              "      <td>1.166667</td>\n",
              "      <td>1.005540</td>\n",
              "      <td>15.592592</td>\n",
              "      <td>13.888889</td>\n",
              "      <td>11.777778</td>\n",
              "      <td>21.111110</td>\n",
              "      <td>-5.111111</td>\n",
              "      <td>-11.444445</td>\n",
              "      <td>16.555555</td>\n",
              "      <td>21.111110</td>\n",
              "      <td>0.442661</td>\n",
              "      <td>1.863654</td>\n",
              "    </tr>\n",
              "    <tr>\n",
              "      <th>...</th>\n",
              "      <td>...</td>\n",
              "      <td>...</td>\n",
              "      <td>...</td>\n",
              "      <td>...</td>\n",
              "      <td>...</td>\n",
              "      <td>...</td>\n",
              "      <td>...</td>\n",
              "      <td>...</td>\n",
              "      <td>...</td>\n",
              "      <td>...</td>\n",
              "      <td>...</td>\n",
              "      <td>...</td>\n",
              "      <td>...</td>\n",
              "      <td>...</td>\n",
              "      <td>...</td>\n",
              "      <td>...</td>\n",
              "      <td>...</td>\n",
              "      <td>...</td>\n",
              "      <td>...</td>\n",
              "    </tr>\n",
              "    <tr>\n",
              "      <th>CEMENT</th>\n",
              "      <td>32.0</td>\n",
              "      <td>158.0</td>\n",
              "      <td>9</td>\n",
              "      <td>0.000000</td>\n",
              "      <td>0.0</td>\n",
              "      <td>0.944445</td>\n",
              "      <td>0.862963</td>\n",
              "      <td>0.833333</td>\n",
              "      <td>0.611111</td>\n",
              "      <td>7.962963</td>\n",
              "      <td>6.333334</td>\n",
              "      <td>11.888889</td>\n",
              "      <td>5.666666</td>\n",
              "      <td>-4.888889</td>\n",
              "      <td>11.777778</td>\n",
              "      <td>-6.888889</td>\n",
              "      <td>11.888889</td>\n",
              "      <td>0.520578</td>\n",
              "      <td>-1.982834</td>\n",
              "    </tr>\n",
              "    <tr>\n",
              "      <th>CEMENT</th>\n",
              "      <td>8.0</td>\n",
              "      <td>162.0</td>\n",
              "      <td>9</td>\n",
              "      <td>0.111111</td>\n",
              "      <td>0.0</td>\n",
              "      <td>1.611111</td>\n",
              "      <td>2.062962</td>\n",
              "      <td>0.333333</td>\n",
              "      <td>0.133333</td>\n",
              "      <td>8.370370</td>\n",
              "      <td>6.666666</td>\n",
              "      <td>12.000000</td>\n",
              "      <td>6.444445</td>\n",
              "      <td>-5.111111</td>\n",
              "      <td>10.888889</td>\n",
              "      <td>-5.777778</td>\n",
              "      <td>12.000000</td>\n",
              "      <td>0.484805</td>\n",
              "      <td>-2.044946</td>\n",
              "    </tr>\n",
              "    <tr>\n",
              "      <th>CEMENT</th>\n",
              "      <td>128.0</td>\n",
              "      <td>161.0</td>\n",
              "      <td>9</td>\n",
              "      <td>0.000000</td>\n",
              "      <td>0.0</td>\n",
              "      <td>0.555555</td>\n",
              "      <td>0.251852</td>\n",
              "      <td>0.777778</td>\n",
              "      <td>0.162963</td>\n",
              "      <td>7.148148</td>\n",
              "      <td>5.555555</td>\n",
              "      <td>10.888889</td>\n",
              "      <td>5.000000</td>\n",
              "      <td>-4.777778</td>\n",
              "      <td>11.222222</td>\n",
              "      <td>-6.444445</td>\n",
              "      <td>10.888889</td>\n",
              "      <td>0.540918</td>\n",
              "      <td>-1.996307</td>\n",
              "    </tr>\n",
              "    <tr>\n",
              "      <th>CEMENT</th>\n",
              "      <td>150.0</td>\n",
              "      <td>158.0</td>\n",
              "      <td>9</td>\n",
              "      <td>0.000000</td>\n",
              "      <td>0.0</td>\n",
              "      <td>2.166667</td>\n",
              "      <td>1.633334</td>\n",
              "      <td>1.388889</td>\n",
              "      <td>0.418518</td>\n",
              "      <td>8.444445</td>\n",
              "      <td>7.000000</td>\n",
              "      <td>12.222222</td>\n",
              "      <td>6.111111</td>\n",
              "      <td>-4.333334</td>\n",
              "      <td>11.333333</td>\n",
              "      <td>-7.000000</td>\n",
              "      <td>12.222222</td>\n",
              "      <td>0.503086</td>\n",
              "      <td>-1.943449</td>\n",
              "    </tr>\n",
              "    <tr>\n",
              "      <th>CEMENT</th>\n",
              "      <td>124.0</td>\n",
              "      <td>162.0</td>\n",
              "      <td>9</td>\n",
              "      <td>0.111111</td>\n",
              "      <td>0.0</td>\n",
              "      <td>1.388889</td>\n",
              "      <td>1.129630</td>\n",
              "      <td>2.000000</td>\n",
              "      <td>0.888889</td>\n",
              "      <td>10.037037</td>\n",
              "      <td>8.000000</td>\n",
              "      <td>14.555555</td>\n",
              "      <td>7.555555</td>\n",
              "      <td>-6.111111</td>\n",
              "      <td>13.555555</td>\n",
              "      <td>-7.444445</td>\n",
              "      <td>14.555555</td>\n",
              "      <td>0.479931</td>\n",
              "      <td>-2.029312</td>\n",
              "    </tr>\n",
              "  </tbody>\n",
              "</table>\n",
              "<p>2100 rows × 19 columns</p>\n",
              "</div>\n",
              "      <button class=\"colab-df-convert\" onclick=\"convertToInteractive('df-71c35125-6722-4b18-9262-94027a045415')\"\n",
              "              title=\"Convert this dataframe to an interactive table.\"\n",
              "              style=\"display:none;\">\n",
              "        \n",
              "  <svg xmlns=\"http://www.w3.org/2000/svg\" height=\"24px\"viewBox=\"0 0 24 24\"\n",
              "       width=\"24px\">\n",
              "    <path d=\"M0 0h24v24H0V0z\" fill=\"none\"/>\n",
              "    <path d=\"M18.56 5.44l.94 2.06.94-2.06 2.06-.94-2.06-.94-.94-2.06-.94 2.06-2.06.94zm-11 1L8.5 8.5l.94-2.06 2.06-.94-2.06-.94L8.5 2.5l-.94 2.06-2.06.94zm10 10l.94 2.06.94-2.06 2.06-.94-2.06-.94-.94-2.06-.94 2.06-2.06.94z\"/><path d=\"M17.41 7.96l-1.37-1.37c-.4-.4-.92-.59-1.43-.59-.52 0-1.04.2-1.43.59L10.3 9.45l-7.72 7.72c-.78.78-.78 2.05 0 2.83L4 21.41c.39.39.9.59 1.41.59.51 0 1.02-.2 1.41-.59l7.78-7.78 2.81-2.81c.8-.78.8-2.07 0-2.86zM5.41 20L4 18.59l7.72-7.72 1.47 1.35L5.41 20z\"/>\n",
              "  </svg>\n",
              "      </button>\n",
              "      \n",
              "  <style>\n",
              "    .colab-df-container {\n",
              "      display:flex;\n",
              "      flex-wrap:wrap;\n",
              "      gap: 12px;\n",
              "    }\n",
              "\n",
              "    .colab-df-convert {\n",
              "      background-color: #E8F0FE;\n",
              "      border: none;\n",
              "      border-radius: 50%;\n",
              "      cursor: pointer;\n",
              "      display: none;\n",
              "      fill: #1967D2;\n",
              "      height: 32px;\n",
              "      padding: 0 0 0 0;\n",
              "      width: 32px;\n",
              "    }\n",
              "\n",
              "    .colab-df-convert:hover {\n",
              "      background-color: #E2EBFA;\n",
              "      box-shadow: 0px 1px 2px rgba(60, 64, 67, 0.3), 0px 1px 3px 1px rgba(60, 64, 67, 0.15);\n",
              "      fill: #174EA6;\n",
              "    }\n",
              "\n",
              "    [theme=dark] .colab-df-convert {\n",
              "      background-color: #3B4455;\n",
              "      fill: #D2E3FC;\n",
              "    }\n",
              "\n",
              "    [theme=dark] .colab-df-convert:hover {\n",
              "      background-color: #434B5C;\n",
              "      box-shadow: 0px 1px 3px 1px rgba(0, 0, 0, 0.15);\n",
              "      filter: drop-shadow(0px 1px 2px rgba(0, 0, 0, 0.3));\n",
              "      fill: #FFFFFF;\n",
              "    }\n",
              "  </style>\n",
              "\n",
              "      <script>\n",
              "        const buttonEl =\n",
              "          document.querySelector('#df-71c35125-6722-4b18-9262-94027a045415 button.colab-df-convert');\n",
              "        buttonEl.style.display =\n",
              "          google.colab.kernel.accessAllowed ? 'block' : 'none';\n",
              "\n",
              "        async function convertToInteractive(key) {\n",
              "          const element = document.querySelector('#df-71c35125-6722-4b18-9262-94027a045415');\n",
              "          const dataTable =\n",
              "            await google.colab.kernel.invokeFunction('convertToInteractive',\n",
              "                                                     [key], {});\n",
              "          if (!dataTable) return;\n",
              "\n",
              "          const docLinkHtml = 'Like what you see? Visit the ' +\n",
              "            '<a target=\"_blank\" href=https://colab.research.google.com/notebooks/data_table.ipynb>data table notebook</a>'\n",
              "            + ' to learn more about interactive tables.';\n",
              "          element.innerHTML = '';\n",
              "          dataTable['output_type'] = 'display_data';\n",
              "          await google.colab.output.renderOutput(dataTable, element);\n",
              "          const docLink = document.createElement('div');\n",
              "          docLink.innerHTML = docLinkHtml;\n",
              "          element.appendChild(docLink);\n",
              "        }\n",
              "      </script>\n",
              "    </div>\n",
              "  </div>\n",
              "  "
            ],
            "text/plain": [
              "        REGION-CENTROID-COL  REGION-CENTROID-ROW  ...  SATURATION-MEAN  HUE-MEAN\n",
              "GRASS                 110.0                189.0  ...         0.508139  1.910864\n",
              "GRASS                  86.0                187.0  ...         0.463329  1.941465\n",
              "GRASS                 225.0                244.0  ...         0.480149  1.987902\n",
              "GRASS                  47.0                232.0  ...         0.500966  1.875362\n",
              "GRASS                  97.0                186.0  ...         0.442661  1.863654\n",
              "...                     ...                  ...  ...              ...       ...\n",
              "CEMENT                 32.0                158.0  ...         0.520578 -1.982834\n",
              "CEMENT                  8.0                162.0  ...         0.484805 -2.044946\n",
              "CEMENT                128.0                161.0  ...         0.540918 -1.996307\n",
              "CEMENT                150.0                158.0  ...         0.503086 -1.943449\n",
              "CEMENT                124.0                162.0  ...         0.479931 -2.029312\n",
              "\n",
              "[2100 rows x 19 columns]"
            ]
          },
          "metadata": {},
          "execution_count": 317
        }
      ],
      "source": [
        "raw_data"
      ]
    },
    {
      "cell_type": "code",
      "execution_count": 318,
      "metadata": {
        "id": "S60QK-mLvPVH"
      },
      "outputs": [],
      "source": [
        "raw_data.reset_index(level=0, inplace=True)"
      ]
    },
    {
      "cell_type": "code",
      "execution_count": 319,
      "metadata": {
        "colab": {
          "base_uri": "https://localhost:8080/",
          "height": 35
        },
        "id": "pbVKOfSktz1M",
        "outputId": "65fb5937-128c-4686-8586-3065e5a28a95"
      },
      "outputs": [
        {
          "output_type": "execute_result",
          "data": {
            "application/vnd.google.colaboratory.intrinsic+json": {
              "type": "string"
            },
            "text/plain": [
              "'index'"
            ]
          },
          "metadata": {},
          "execution_count": 319
        }
      ],
      "source": [
        "raw_data.columns[0]"
      ]
    },
    {
      "cell_type": "code",
      "execution_count": 320,
      "metadata": {
        "id": "eRe_IdkRvOl3"
      },
      "outputs": [],
      "source": [
        "raw_data.rename(columns = {'index':'TARGET'}, inplace = True)"
      ]
    },
    {
      "cell_type": "code",
      "execution_count": 321,
      "metadata": {
        "colab": {
          "base_uri": "https://localhost:8080/",
          "height": 540
        },
        "id": "rOS0anvhYF5z",
        "outputId": "9aa9d70e-24ef-4eba-f3c1-82dd1c144704"
      },
      "outputs": [
        {
          "output_type": "execute_result",
          "data": {
            "text/html": [
              "\n",
              "  <div id=\"df-4ee9f4d8-bfa4-4af0-b0a7-43173421a71b\">\n",
              "    <div class=\"colab-df-container\">\n",
              "      <div>\n",
              "<style scoped>\n",
              "    .dataframe tbody tr th:only-of-type {\n",
              "        vertical-align: middle;\n",
              "    }\n",
              "\n",
              "    .dataframe tbody tr th {\n",
              "        vertical-align: top;\n",
              "    }\n",
              "\n",
              "    .dataframe thead th {\n",
              "        text-align: right;\n",
              "    }\n",
              "</style>\n",
              "<table border=\"1\" class=\"dataframe\">\n",
              "  <thead>\n",
              "    <tr style=\"text-align: right;\">\n",
              "      <th></th>\n",
              "      <th>TARGET</th>\n",
              "      <th>REGION-CENTROID-COL</th>\n",
              "      <th>REGION-CENTROID-ROW</th>\n",
              "      <th>REGION-PIXEL-COUNT</th>\n",
              "      <th>SHORT-LINE-DENSITY-5</th>\n",
              "      <th>SHORT-LINE-DENSITY-2</th>\n",
              "      <th>VEDGE-MEAN</th>\n",
              "      <th>VEDGE-SD</th>\n",
              "      <th>HEDGE-MEAN</th>\n",
              "      <th>HEDGE-SD</th>\n",
              "      <th>INTENSITY-MEAN</th>\n",
              "      <th>RAWRED-MEAN</th>\n",
              "      <th>RAWBLUE-MEAN</th>\n",
              "      <th>RAWGREEN-MEAN</th>\n",
              "      <th>EXRED-MEAN</th>\n",
              "      <th>EXBLUE-MEAN</th>\n",
              "      <th>EXGREEN-MEAN</th>\n",
              "      <th>VALUE-MEAN</th>\n",
              "      <th>SATURATION-MEAN</th>\n",
              "      <th>HUE-MEAN</th>\n",
              "    </tr>\n",
              "  </thead>\n",
              "  <tbody>\n",
              "    <tr>\n",
              "      <th>1071</th>\n",
              "      <td>BRICKFACE</td>\n",
              "      <td>142.0</td>\n",
              "      <td>100.0</td>\n",
              "      <td>9</td>\n",
              "      <td>0.000000</td>\n",
              "      <td>0.0</td>\n",
              "      <td>0.666667</td>\n",
              "      <td>0.266666</td>\n",
              "      <td>1.388889</td>\n",
              "      <td>0.907407</td>\n",
              "      <td>22.222221</td>\n",
              "      <td>21.777779</td>\n",
              "      <td>28.444445</td>\n",
              "      <td>16.444445</td>\n",
              "      <td>-1.333333</td>\n",
              "      <td>18.666666</td>\n",
              "      <td>-17.333334</td>\n",
              "      <td>28.444445</td>\n",
              "      <td>0.421994</td>\n",
              "      <td>-1.623301</td>\n",
              "    </tr>\n",
              "    <tr>\n",
              "      <th>1072</th>\n",
              "      <td>BRICKFACE</td>\n",
              "      <td>27.0</td>\n",
              "      <td>50.0</td>\n",
              "      <td>9</td>\n",
              "      <td>0.000000</td>\n",
              "      <td>0.0</td>\n",
              "      <td>1.055556</td>\n",
              "      <td>0.462963</td>\n",
              "      <td>1.000000</td>\n",
              "      <td>0.488889</td>\n",
              "      <td>23.037037</td>\n",
              "      <td>21.666666</td>\n",
              "      <td>30.000000</td>\n",
              "      <td>17.444445</td>\n",
              "      <td>-4.111111</td>\n",
              "      <td>20.888890</td>\n",
              "      <td>-16.777779</td>\n",
              "      <td>30.000000</td>\n",
              "      <td>0.418746</td>\n",
              "      <td>-1.741254</td>\n",
              "    </tr>\n",
              "    <tr>\n",
              "      <th>1073</th>\n",
              "      <td>BRICKFACE</td>\n",
              "      <td>19.0</td>\n",
              "      <td>55.0</td>\n",
              "      <td>9</td>\n",
              "      <td>0.000000</td>\n",
              "      <td>0.0</td>\n",
              "      <td>1.444445</td>\n",
              "      <td>2.829630</td>\n",
              "      <td>1.277778</td>\n",
              "      <td>0.862964</td>\n",
              "      <td>21.037037</td>\n",
              "      <td>20.555555</td>\n",
              "      <td>26.666666</td>\n",
              "      <td>15.888889</td>\n",
              "      <td>-1.444444</td>\n",
              "      <td>16.888890</td>\n",
              "      <td>-15.444445</td>\n",
              "      <td>26.666666</td>\n",
              "      <td>0.404791</td>\n",
              "      <td>-1.634416</td>\n",
              "    </tr>\n",
              "    <tr>\n",
              "      <th>1074</th>\n",
              "      <td>BRICKFACE</td>\n",
              "      <td>34.0</td>\n",
              "      <td>83.0</td>\n",
              "      <td>9</td>\n",
              "      <td>0.000000</td>\n",
              "      <td>0.0</td>\n",
              "      <td>1.444445</td>\n",
              "      <td>0.340741</td>\n",
              "      <td>2.444445</td>\n",
              "      <td>0.429631</td>\n",
              "      <td>19.444445</td>\n",
              "      <td>19.555555</td>\n",
              "      <td>24.444445</td>\n",
              "      <td>14.333333</td>\n",
              "      <td>0.333333</td>\n",
              "      <td>15.000000</td>\n",
              "      <td>-15.333333</td>\n",
              "      <td>24.444445</td>\n",
              "      <td>0.410073</td>\n",
              "      <td>-1.507007</td>\n",
              "    </tr>\n",
              "    <tr>\n",
              "      <th>1075</th>\n",
              "      <td>BRICKFACE</td>\n",
              "      <td>82.0</td>\n",
              "      <td>109.0</td>\n",
              "      <td>9</td>\n",
              "      <td>0.111111</td>\n",
              "      <td>0.0</td>\n",
              "      <td>0.722223</td>\n",
              "      <td>0.240741</td>\n",
              "      <td>1.333334</td>\n",
              "      <td>0.800001</td>\n",
              "      <td>17.777779</td>\n",
              "      <td>19.222221</td>\n",
              "      <td>21.000000</td>\n",
              "      <td>13.111111</td>\n",
              "      <td>4.333334</td>\n",
              "      <td>9.666667</td>\n",
              "      <td>-14.000000</td>\n",
              "      <td>21.000000</td>\n",
              "      <td>0.376024</td>\n",
              "      <td>-1.276562</td>\n",
              "    </tr>\n",
              "    <tr>\n",
              "      <th>...</th>\n",
              "      <td>...</td>\n",
              "      <td>...</td>\n",
              "      <td>...</td>\n",
              "      <td>...</td>\n",
              "      <td>...</td>\n",
              "      <td>...</td>\n",
              "      <td>...</td>\n",
              "      <td>...</td>\n",
              "      <td>...</td>\n",
              "      <td>...</td>\n",
              "      <td>...</td>\n",
              "      <td>...</td>\n",
              "      <td>...</td>\n",
              "      <td>...</td>\n",
              "      <td>...</td>\n",
              "      <td>...</td>\n",
              "      <td>...</td>\n",
              "      <td>...</td>\n",
              "      <td>...</td>\n",
              "      <td>...</td>\n",
              "    </tr>\n",
              "    <tr>\n",
              "      <th>1899</th>\n",
              "      <td>BRICKFACE</td>\n",
              "      <td>177.0</td>\n",
              "      <td>126.0</td>\n",
              "      <td>9</td>\n",
              "      <td>0.000000</td>\n",
              "      <td>0.0</td>\n",
              "      <td>0.444444</td>\n",
              "      <td>0.118519</td>\n",
              "      <td>0.611111</td>\n",
              "      <td>0.418519</td>\n",
              "      <td>5.407407</td>\n",
              "      <td>7.666666</td>\n",
              "      <td>5.666666</td>\n",
              "      <td>2.888889</td>\n",
              "      <td>6.777778</td>\n",
              "      <td>0.777778</td>\n",
              "      <td>-7.555555</td>\n",
              "      <td>7.666666</td>\n",
              "      <td>0.623016</td>\n",
              "      <td>-0.612886</td>\n",
              "    </tr>\n",
              "    <tr>\n",
              "      <th>1900</th>\n",
              "      <td>BRICKFACE</td>\n",
              "      <td>108.0</td>\n",
              "      <td>111.0</td>\n",
              "      <td>9</td>\n",
              "      <td>0.000000</td>\n",
              "      <td>0.0</td>\n",
              "      <td>0.555555</td>\n",
              "      <td>0.162963</td>\n",
              "      <td>2.555555</td>\n",
              "      <td>0.385187</td>\n",
              "      <td>3.814815</td>\n",
              "      <td>4.111111</td>\n",
              "      <td>5.555555</td>\n",
              "      <td>1.777778</td>\n",
              "      <td>0.888889</td>\n",
              "      <td>5.222222</td>\n",
              "      <td>-6.111111</td>\n",
              "      <td>5.555555</td>\n",
              "      <td>0.715608</td>\n",
              "      <td>-1.437240</td>\n",
              "    </tr>\n",
              "    <tr>\n",
              "      <th>1901</th>\n",
              "      <td>BRICKFACE</td>\n",
              "      <td>146.0</td>\n",
              "      <td>124.0</td>\n",
              "      <td>9</td>\n",
              "      <td>0.000000</td>\n",
              "      <td>0.0</td>\n",
              "      <td>0.500000</td>\n",
              "      <td>0.166667</td>\n",
              "      <td>0.388889</td>\n",
              "      <td>0.107407</td>\n",
              "      <td>6.037037</td>\n",
              "      <td>7.444445</td>\n",
              "      <td>7.333334</td>\n",
              "      <td>3.333333</td>\n",
              "      <td>4.222222</td>\n",
              "      <td>3.888889</td>\n",
              "      <td>-8.111111</td>\n",
              "      <td>7.666666</td>\n",
              "      <td>0.563492</td>\n",
              "      <td>-1.024730</td>\n",
              "    </tr>\n",
              "    <tr>\n",
              "      <th>1902</th>\n",
              "      <td>BRICKFACE</td>\n",
              "      <td>39.0</td>\n",
              "      <td>111.0</td>\n",
              "      <td>9</td>\n",
              "      <td>0.000000</td>\n",
              "      <td>0.0</td>\n",
              "      <td>0.722222</td>\n",
              "      <td>0.374074</td>\n",
              "      <td>0.888889</td>\n",
              "      <td>0.429629</td>\n",
              "      <td>6.037037</td>\n",
              "      <td>7.000000</td>\n",
              "      <td>7.666666</td>\n",
              "      <td>3.444444</td>\n",
              "      <td>2.888889</td>\n",
              "      <td>4.888889</td>\n",
              "      <td>-7.777778</td>\n",
              "      <td>7.888889</td>\n",
              "      <td>0.562919</td>\n",
              "      <td>-1.175773</td>\n",
              "    </tr>\n",
              "    <tr>\n",
              "      <th>1903</th>\n",
              "      <td>BRICKFACE</td>\n",
              "      <td>101.0</td>\n",
              "      <td>130.0</td>\n",
              "      <td>9</td>\n",
              "      <td>0.000000</td>\n",
              "      <td>0.0</td>\n",
              "      <td>0.611111</td>\n",
              "      <td>0.240741</td>\n",
              "      <td>0.666667</td>\n",
              "      <td>0.577778</td>\n",
              "      <td>5.777778</td>\n",
              "      <td>7.444445</td>\n",
              "      <td>6.666666</td>\n",
              "      <td>3.222222</td>\n",
              "      <td>5.000000</td>\n",
              "      <td>2.666667</td>\n",
              "      <td>-7.666666</td>\n",
              "      <td>7.555555</td>\n",
              "      <td>0.575397</td>\n",
              "      <td>-0.871495</td>\n",
              "    </tr>\n",
              "  </tbody>\n",
              "</table>\n",
              "<p>300 rows × 20 columns</p>\n",
              "</div>\n",
              "      <button class=\"colab-df-convert\" onclick=\"convertToInteractive('df-4ee9f4d8-bfa4-4af0-b0a7-43173421a71b')\"\n",
              "              title=\"Convert this dataframe to an interactive table.\"\n",
              "              style=\"display:none;\">\n",
              "        \n",
              "  <svg xmlns=\"http://www.w3.org/2000/svg\" height=\"24px\"viewBox=\"0 0 24 24\"\n",
              "       width=\"24px\">\n",
              "    <path d=\"M0 0h24v24H0V0z\" fill=\"none\"/>\n",
              "    <path d=\"M18.56 5.44l.94 2.06.94-2.06 2.06-.94-2.06-.94-.94-2.06-.94 2.06-2.06.94zm-11 1L8.5 8.5l.94-2.06 2.06-.94-2.06-.94L8.5 2.5l-.94 2.06-2.06.94zm10 10l.94 2.06.94-2.06 2.06-.94-2.06-.94-.94-2.06-.94 2.06-2.06.94z\"/><path d=\"M17.41 7.96l-1.37-1.37c-.4-.4-.92-.59-1.43-.59-.52 0-1.04.2-1.43.59L10.3 9.45l-7.72 7.72c-.78.78-.78 2.05 0 2.83L4 21.41c.39.39.9.59 1.41.59.51 0 1.02-.2 1.41-.59l7.78-7.78 2.81-2.81c.8-.78.8-2.07 0-2.86zM5.41 20L4 18.59l7.72-7.72 1.47 1.35L5.41 20z\"/>\n",
              "  </svg>\n",
              "      </button>\n",
              "      \n",
              "  <style>\n",
              "    .colab-df-container {\n",
              "      display:flex;\n",
              "      flex-wrap:wrap;\n",
              "      gap: 12px;\n",
              "    }\n",
              "\n",
              "    .colab-df-convert {\n",
              "      background-color: #E8F0FE;\n",
              "      border: none;\n",
              "      border-radius: 50%;\n",
              "      cursor: pointer;\n",
              "      display: none;\n",
              "      fill: #1967D2;\n",
              "      height: 32px;\n",
              "      padding: 0 0 0 0;\n",
              "      width: 32px;\n",
              "    }\n",
              "\n",
              "    .colab-df-convert:hover {\n",
              "      background-color: #E2EBFA;\n",
              "      box-shadow: 0px 1px 2px rgba(60, 64, 67, 0.3), 0px 1px 3px 1px rgba(60, 64, 67, 0.15);\n",
              "      fill: #174EA6;\n",
              "    }\n",
              "\n",
              "    [theme=dark] .colab-df-convert {\n",
              "      background-color: #3B4455;\n",
              "      fill: #D2E3FC;\n",
              "    }\n",
              "\n",
              "    [theme=dark] .colab-df-convert:hover {\n",
              "      background-color: #434B5C;\n",
              "      box-shadow: 0px 1px 3px 1px rgba(0, 0, 0, 0.15);\n",
              "      filter: drop-shadow(0px 1px 2px rgba(0, 0, 0, 0.3));\n",
              "      fill: #FFFFFF;\n",
              "    }\n",
              "  </style>\n",
              "\n",
              "      <script>\n",
              "        const buttonEl =\n",
              "          document.querySelector('#df-4ee9f4d8-bfa4-4af0-b0a7-43173421a71b button.colab-df-convert');\n",
              "        buttonEl.style.display =\n",
              "          google.colab.kernel.accessAllowed ? 'block' : 'none';\n",
              "\n",
              "        async function convertToInteractive(key) {\n",
              "          const element = document.querySelector('#df-4ee9f4d8-bfa4-4af0-b0a7-43173421a71b');\n",
              "          const dataTable =\n",
              "            await google.colab.kernel.invokeFunction('convertToInteractive',\n",
              "                                                     [key], {});\n",
              "          if (!dataTable) return;\n",
              "\n",
              "          const docLinkHtml = 'Like what you see? Visit the ' +\n",
              "            '<a target=\"_blank\" href=https://colab.research.google.com/notebooks/data_table.ipynb>data table notebook</a>'\n",
              "            + ' to learn more about interactive tables.';\n",
              "          element.innerHTML = '';\n",
              "          dataTable['output_type'] = 'display_data';\n",
              "          await google.colab.output.renderOutput(dataTable, element);\n",
              "          const docLink = document.createElement('div');\n",
              "          docLink.innerHTML = docLinkHtml;\n",
              "          element.appendChild(docLink);\n",
              "        }\n",
              "      </script>\n",
              "    </div>\n",
              "  </div>\n",
              "  "
            ],
            "text/plain": [
              "         TARGET  REGION-CENTROID-COL  ...  SATURATION-MEAN  HUE-MEAN\n",
              "1071  BRICKFACE                142.0  ...         0.421994 -1.623301\n",
              "1072  BRICKFACE                 27.0  ...         0.418746 -1.741254\n",
              "1073  BRICKFACE                 19.0  ...         0.404791 -1.634416\n",
              "1074  BRICKFACE                 34.0  ...         0.410073 -1.507007\n",
              "1075  BRICKFACE                 82.0  ...         0.376024 -1.276562\n",
              "...         ...                  ...  ...              ...       ...\n",
              "1899  BRICKFACE                177.0  ...         0.623016 -0.612886\n",
              "1900  BRICKFACE                108.0  ...         0.715608 -1.437240\n",
              "1901  BRICKFACE                146.0  ...         0.563492 -1.024730\n",
              "1902  BRICKFACE                 39.0  ...         0.562919 -1.175773\n",
              "1903  BRICKFACE                101.0  ...         0.575397 -0.871495\n",
              "\n",
              "[300 rows x 20 columns]"
            ]
          },
          "metadata": {},
          "execution_count": 321
        }
      ],
      "source": [
        "raw_data[raw_data['TARGET'] =='BRICKFACE']"
      ]
    },
    {
      "cell_type": "code",
      "execution_count": 402,
      "metadata": {
        "id": "SWhKYA5GPB2T"
      },
      "outputs": [],
      "source": [
        "class DatasetConstructor(TransformerMixin, BaseEstimator):\n",
        "    def __init__(self, db_type):\n",
        "        self.db_type = db_type\n",
        "\n",
        "    def transform(self, X):\n",
        "        if self.db_type == 1:\n",
        "          return X.iloc[:,list(range(4,9))]\n",
        "        elif self.db_type == 2:\n",
        "          return X.iloc[:,list(range(10,19))]\n",
        "        elif self.db_type == 3:\n",
        "          return X.iloc[:,list(range(4,19))]\n",
        "        else:\n",
        "          return X.iloc[:,list(range(1,19))]\n",
        "\n",
        "    def fit(self, X, y=None):\n",
        "        return self"
      ]
    },
    {
      "cell_type": "code",
      "execution_count": 403,
      "metadata": {
        "id": "JFrjS_4NdF-3"
      },
      "outputs": [],
      "source": [
        "scoring = ['accuracy','recall_macro','precision_macro','f1_macro']"
      ]
    },
    {
      "cell_type": "code",
      "execution_count": 324,
      "metadata": {
        "id": "yLBPKyVZdkP-"
      },
      "outputs": [],
      "source": [
        "inner_cv = StratifiedKFold(n_splits=5)\n",
        "outer_cv = RepeatedStratifiedKFold(n_splits=10, n_repeats=30, random_state=24)\n",
        "X = raw_data\n",
        "y = raw_data['TARGET']\n"
      ]
    },
    {
      "cell_type": "markdown",
      "metadata": {
        "id": "L5ATV2oWz73F"
      },
      "source": [
        "# EnsembleBayesianClassifier\n",
        "\n",
        "\n",
        "This classifier recives 3 classifiers. \n",
        "  \n",
        "\n",
        "*   Classifier_1 (clf_1): Used to fit and predict on variables 4 to 9 from original dataset \n",
        "*   Classifier_2 (clf_2): Used to fit and predict on variables 10 to 19 from original dataset\n",
        "*   Classifier_3 (clf_3): Used to fit and predict on variables 4 to 19 from original dataset\n",
        "\n",
        "\n",
        "  \n",
        "  \n",
        "These classifiers could be any classifier that follows scikit-learn standards. "
      ]
    },
    {
      "cell_type": "code",
      "execution_count": 325,
      "metadata": {
        "id": "R3ZzouCwKXrP"
      },
      "outputs": [],
      "source": [
        "gaussian_pipe_1 = Pipeline([\n",
        "('col_extract', DatasetConstructor( db_type=1 )), # Seleciona as features da base (4 a 9) e repassa para o classificador 1\n",
        "('Gaussian_Bayesian_Classifier_1', GaussianNB())\n",
        "])\n",
        "gaussian_pipe_2 = Pipeline([\n",
        "('col_extract', DatasetConstructor( db_type=2 )), # Seleciona as features da base (10 a 19) e repassa para o classificador 2\n",
        "('Gaussian_Bayesian_Classifier_2', GaussianNB())\n",
        "])\n",
        "gaussian_pipe_3 = Pipeline([\n",
        "('col_extract', DatasetConstructor( db_type=3 )),  # Seleciona as features da base (4 a 19) e repassa para o classificador 3\n",
        "('Gaussian_Bayesian_Classifier_3', GaussianNB())\n",
        "])\n",
        "\n",
        "\n"
      ]
    },
    {
      "cell_type": "code",
      "execution_count": 326,
      "metadata": {
        "colab": {
          "base_uri": "https://localhost:8080/"
        },
        "id": "vHcxJm1KPWqT",
        "outputId": "35cc5456-c21a-42f1-b321-e9ca79c1e406"
      },
      "outputs": [
        {
          "output_type": "stream",
          "name": "stdout",
          "text": [
            "CPU times: user 2.42 s, sys: 95.1 ms, total: 2.51 s\n",
            "Wall time: 18.1 s\n"
          ]
        }
      ],
      "source": [
        "%%time\n",
        "ensembled_gaussian_model = VotingClassifier(estimators=[('Gaussian_pipe_1', gaussian_pipe_1), ('Gaussian_pipe_2', gaussian_pipe_2), ('Gaussian_pipe_3', gaussian_pipe_3)], voting='hard')\n",
        "bayesian_score = cross_validate(ensembled_gaussian_model, X=X, y=y, cv=outer_cv, scoring=scoring, n_jobs=-1)"
      ]
    },
    {
      "cell_type": "markdown",
      "metadata": {
        "id": "Djxyr2-EbWZm"
      },
      "source": [
        "# EnsembleNearstNeiboursClassifier\n",
        "\n",
        "\n",
        "This classifier recives 3 classifiers. \n",
        "  \n",
        "\n",
        "*   Classifier_1 (clf_1): Used to fit and predict on variables 4 to 9 from original dataset \n",
        "*   Classifier_2 (clf_2): Used to fit and predict on variables 10 to 19 from original dataset\n",
        "*   Classifier_3 (clf_3): Used to fit and predict on variables 4 to 19 from original dataset\n"
      ]
    },
    {
      "cell_type": "code",
      "execution_count": 327,
      "metadata": {
        "id": "mVx4L6mZbdWI"
      },
      "outputs": [],
      "source": [
        "K_values = list(range(1,30))"
      ]
    },
    {
      "cell_type": "code",
      "execution_count": 328,
      "metadata": {
        "id": "zbR60eu5cayg"
      },
      "outputs": [],
      "source": [
        "K_nn_pipe_1 = Pipeline([\n",
        "('col_extract', DatasetConstructor( db_type=1 )), #  Seleciona as features da base (4 a 9) e repassa para o classificador 1\n",
        "('K-nn_Bayesian_Classifier_1',  GridSearchCV(estimator=KNeighborsClassifier(), param_grid={'n_neighbors': K_values }, cv=inner_cv))\n",
        "])\n",
        "K_nn_pipe_2 = Pipeline([\n",
        "('col_extract', DatasetConstructor( db_type=2 )), #  Seleciona as features da base (10 a 19) e repassa para o classificador 2\n",
        "('K-nn_Bayesian_Classifier_2',  GridSearchCV(estimator=KNeighborsClassifier(),param_grid={'n_neighbors': K_values },cv=inner_cv))\n",
        "])\n",
        "K_nn_pipe_3 = Pipeline([\n",
        "('col_extract', DatasetConstructor( db_type=3 )), #  Seleciona as features da base (4 a 19) e repassa para o classificador 3\n",
        "('K-nn_Bayesian_Classifier_3',  GridSearchCV(estimator=KNeighborsClassifier(),param_grid={'n_neighbors': K_values },cv=inner_cv))\n",
        "])\n"
      ]
    },
    {
      "cell_type": "code",
      "execution_count": 329,
      "metadata": {
        "id": "q4sbXyuhfXHj",
        "colab": {
          "base_uri": "https://localhost:8080/"
        },
        "outputId": "45eec4f2-4100-4c00-9821-3dc9f99309e1"
      },
      "outputs": [
        {
          "output_type": "stream",
          "name": "stdout",
          "text": [
            "CPU times: user 19.1 s, sys: 1.88 s, total: 21 s\n",
            "Wall time: 42min 27s\n"
          ]
        }
      ],
      "source": [
        "%%time\n",
        "ensembled_K_nn_model = VotingClassifier(estimators=[('K_nn_pipe_1', K_nn_pipe_1), ('K_nn_pipe_2', K_nn_pipe_2), ('K_nn_pipe_3', K_nn_pipe_3)], voting='hard')\n",
        "#clf = GridSearchCV(estimator=ensembled_K_nn_model, param_grid=p_grid, cv=inner_cv)\n",
        "k_nn_score = cross_validate(ensembled_K_nn_model, X=X, y=y, cv=outer_cv, scoring=scoring, n_jobs=-1,error_score='raise')"
      ]
    },
    {
      "cell_type": "markdown",
      "metadata": {
        "id": "BvMuFBnfvyFd"
      },
      "source": [
        "# EnsembleLogisticRegressionClassifier\n",
        "\n",
        "\n",
        "This classifier recives 3 classifiers. \n",
        "  \n",
        "\n",
        "*   Classifier_1 (clf_1): Used to fit and predict on variables 4 to 9 from original dataset \n",
        "*   Classifier_2 (clf_2): Used to fit and predict on variables 10 to 19 from original dataset\n",
        "*   Classifier_3 (clf_3): Used to fit and predict on variables 4 to 19 from original dataset\n",
        "\n",
        "\n",
        "  \n",
        "  "
      ]
    },
    {
      "cell_type": "code",
      "execution_count": 330,
      "metadata": {
        "id": "KHjySApBv6yD"
      },
      "outputs": [],
      "source": [
        "C_values = list(range(1,30))"
      ]
    },
    {
      "cell_type": "code",
      "execution_count": 331,
      "metadata": {
        "id": "FemR3oVCv74j"
      },
      "outputs": [],
      "source": [
        "Logistic_Regression_pipe_1 = Pipeline([\n",
        "('col_extract', DatasetConstructor( db_type=1 )), # Seleciona as features da base (4 a 9) e repassa para o classificador 1\n",
        "('Logistic_Regression_Bayesian_Classifier_1',  LogisticRegression(solver='liblinear',multi_class='ovr',random_state=26) )\n",
        "])\n",
        "Logistic_Regression_pipe_2 = Pipeline([\n",
        "('col_extract', DatasetConstructor( db_type=2 )), # Seleciona as features da base (10 a 19) e repassa para o classificador 2\n",
        "('Logistic_Regression_Bayesian_Classifier_2',  LogisticRegression(solver='liblinear',multi_class='ovr',random_state=26) )\n",
        "])\n",
        "Logistic_Regression_pipe_3 = Pipeline([\n",
        "('col_extract', DatasetConstructor( db_type=3 )), # Seleciona as features da base (4 a 19) e repassa para o classificador 3\n",
        "('Logistic_Regression_Bayesian_Classifier_3',  LogisticRegression(solver='liblinear',multi_class='ovr',random_state=26) )\n",
        "])"
      ]
    },
    {
      "cell_type": "code",
      "execution_count": 332,
      "metadata": {
        "colab": {
          "base_uri": "https://localhost:8080/"
        },
        "id": "kLa1XbYF0LZ5",
        "outputId": "92e7fb74-08c7-44f7-caa7-73ab8eb457b1"
      },
      "outputs": [
        {
          "output_type": "stream",
          "name": "stdout",
          "text": [
            "CPU times: user 3.92 s, sys: 132 ms, total: 4.05 s\n",
            "Wall time: 48.6 s\n"
          ]
        }
      ],
      "source": [
        "%%time\n",
        "\n",
        "ensembled_LR_model = VotingClassifier(estimators=[('Gaussian_pipe_1', Logistic_Regression_pipe_1), ('Gaussian_pipe_2', Logistic_Regression_pipe_2), ('Gaussian_pipe_3', Logistic_Regression_pipe_3)], voting='hard')\n",
        "LR_score = cross_validate(ensembled_LR_model, X=X, y=y, cv=outer_cv, scoring=scoring, n_jobs=-1)"
      ]
    },
    {
      "cell_type": "markdown",
      "metadata": {
        "id": "HGXko4MNaWo4"
      },
      "source": [
        "# EnsembleParzenWindowClassifier\n",
        "\n",
        "\n",
        "This classifier recives 3 classifiers. \n",
        "  \n",
        "\n",
        "*   Classifier_1 (clf_1): Used to fit and predict on variables 4 to 9 from original dataset \n",
        "*   Classifier_2 (clf_2): Used to fit and predict on variables 10 to 19 from original dataset\n",
        "*   Classifier_3 (clf_3): Used to fit and predict on variables 4 to 19 from original dataset\n",
        "\n",
        "\n",
        "  \n",
        "  \n",
        "These classifiers could be any classifier that follows scikit-learn standards. This ensemble classifier work only for image segmentation dataset (https://archive.ics.uci.edu/ml/datasets/Image+Segmentation)"
      ]
    },
    {
      "cell_type": "code",
      "execution_count": 333,
      "metadata": {
        "id": "_fYaxsg3xkpv"
      },
      "outputs": [],
      "source": [
        "import numpy as np\n",
        "from scipy.special import gammainc\n",
        "\n",
        "class DummyDensity(BaseEstimator):\n",
        "\n",
        "    def __init__(self,a=None):\n",
        "      self.a = a\n",
        "    def fit(self, X, y=None):\n",
        "        self.X_ = X\n",
        "        return self\n",
        "\n",
        "    def score_samples(self, X):   \n",
        "        return np.zeros(len(X))\n",
        "\n",
        "    def score(self, X, y=None):\n",
        "        return np.sum(self.score_samples(X))\n",
        "\n",
        "    "
      ]
    },
    {
      "cell_type": "code",
      "execution_count": 334,
      "metadata": {
        "id": "WSJVLsbqH2uJ"
      },
      "outputs": [],
      "source": [
        "from sklearn.utils.validation import check_is_fitted\n",
        "from sklearn.utils import check_X_y,check_array,assert_all_finite\n",
        "from sklearn.utils.multiclass import unique_labels\n"
      ]
    },
    {
      "cell_type": "code",
      "execution_count": 401,
      "metadata": {
        "id": "zOASDzOAisVQ"
      },
      "outputs": [],
      "source": [
        "class ParzenWindowClassifier( BaseEstimator, ClassifierMixin ):\n",
        "\n",
        "    def __init__(self,h=None, kernel='gaussian'):\n",
        "      self.h = h\n",
        "      self.kernel = kernel\n",
        "      #self._estimator_type = \"classifier\"\n",
        "      #if self.kernel not in ['gaussian', 'tophat', 'epanechnikov', 'exponential', 'linear', 'cosine']:\n",
        "        #self.kernel = 'gaussian'\n",
        "\n",
        "    def set_params(self, **parameters):\n",
        "      for parameter, value in parameters.items():\n",
        "        setattr(self, parameter, value)\n",
        "      return self\n",
        "\n",
        "    def get_params(self, deep=True):\n",
        "      return {\"h\": self.h, \"kernel\": self.kernel}\n",
        "\n",
        "    def fit(self, X, y=None):\n",
        "      \"\"\"\n",
        "      Validação de entrada\n",
        "      \"\"\"\n",
        "      assert_all_finite(X)\n",
        "      check_array(X, force_all_finite='allow-nan',accept_sparse=False, accept_large_sparse=False)\n",
        "      X, y = check_X_y(X, y, dtype=None, force_all_finite='allow-nan',multi_output=True, accept_sparse=False, accept_large_sparse=False)\n",
        "      \"\"\"\n",
        "      Fim validação de entrada\n",
        "      \"\"\"\n",
        "      self.classes_, y = np.unique(y, return_inverse=True)    #unique_labels(y)\n",
        "      self.class_amount_ = len(self.classes_)\n",
        "      self.X_ = X\n",
        "      self.y_ = y\n",
        "      self.n_features_in_ = X.shape[1]\n",
        "      self.prior_ = None\n",
        "      if self.y_.shape[0] != self.X_.shape[0]:\n",
        "        msg = \"Size of y does not match X size.\"\n",
        "        raise ValueError(msg % (X.shape[1], self.X_.shape[1]))\n",
        "\n",
        "        #self.class_proba_distributions_ = {}\n",
        "\n",
        "      tmp = GaussianNB() # Usado apenas para definir a probabilidade a priori da classe, NÃO É USADO COMO CLASSIFICADOR NESSE CASO\n",
        "      tmp.fit(self.X_,y)\n",
        "      self.prior_ = tmp.class_prior_\n",
        "\n",
        "\n",
        "      \n",
        "      return self\n",
        "\n",
        "    def predict_proba(self, X, y=None):\n",
        "      \"\"\"\n",
        "      Validação de entrada\n",
        "      \"\"\"\n",
        "      check_is_fitted(self)\n",
        "      X = check_array(X, force_all_finite='allow-nan',accept_sparse=False, accept_large_sparse=False)\n",
        "      assert_all_finite(X)\n",
        "      if X.shape[1] != self.X_.shape[1]:\n",
        "        msg = \"Number of features %d does not match previous data %d.\"\n",
        "        raise ValueError(msg % (X.shape[1], self.X_.shape[1]))\n",
        "\n",
        "      if self.y_.shape[0] != self.X_.shape[0]:\n",
        "        msg = \"Size of y does not match X size.\"\n",
        "        raise ValueError(msg % (X.shape[1], self.X_.shape[1]))\n",
        "      \"\"\"\n",
        "      Fim validação de entrada\n",
        "      \"\"\"\n",
        "      \"\"\"\n",
        "      Validação para garantir h != NULL\n",
        "      \"\"\"\n",
        "      if self.h == None:\n",
        "        h_not_null = 1\n",
        "      else:\n",
        "        h_not_null = self.h\n",
        "      \n",
        "\n",
        "      probabilities = np.zeros(len(X)*len(self.classes_)).reshape(len(X),len(self.classes_))# Inicializa matriz de probabilidade\n",
        "\n",
        "      for i in range(0,self.class_amount_):\n",
        "        class_examples_from_training_data = self.X_[self.y_ == self.classes_[i], :]\n",
        "        target_class = self.classes_[i]\n",
        "\n",
        "        if class_examples_from_training_data.size == 0:\n",
        "          continue#kde = DummyDensity().fit(class_examples_from_training_data)\n",
        "        else:\n",
        "          kde = KernelDensity(kernel=self.kernel, bandwidth=h_not_null).fit(class_examples_from_training_data)\n",
        "          probabilities[:,i] = np.exp(kde.score_samples(X))*self.prior_[i]     \n",
        "\n",
        "      return probabilities\n",
        "\n",
        "    def predict_log_proba(self, X, y=None):\n",
        "      return np.log(self.predict_proba( X, y))\n",
        "\n",
        "    def predict(self, X, y=None):\n",
        "      \"\"\"\n",
        "      Validação de entrada\n",
        "      \"\"\"\n",
        "      check_is_fitted(self)\n",
        "      X = check_array(X, force_all_finite='allow-nan',accept_sparse=False, accept_large_sparse=False)\n",
        "      assert_all_finite(X)\n",
        "      \"\"\"\n",
        "      Fim validação de entrada\n",
        "      \"\"\"\n",
        "          \n",
        "      probabilities = self.predict_proba( X, y)\n",
        "      return self.classes_[np.argmax(probabilities, axis=1)]#df_max.to_numpy().astype('U')\n",
        "\n"
      ]
    },
    {
      "cell_type": "code",
      "execution_count": 336,
      "metadata": {
        "id": "UxGyvOquiy9K"
      },
      "outputs": [],
      "source": [
        "# from sklearn.utils.estimator_checks import check_estimator\n",
        "# check_estimator(ParzenWindowClassifier())\n",
        " "
      ]
    },
    {
      "cell_type": "code",
      "execution_count": 337,
      "metadata": {
        "id": "KAVmhX_egruz"
      },
      "outputs": [],
      "source": [
        "H_values = np.logspace(-1, 1, 20)"
      ]
    },
    {
      "cell_type": "code",
      "execution_count": 338,
      "metadata": {
        "id": "b5w-NqAVFi8d"
      },
      "outputs": [],
      "source": [
        "Parzen_Window_pipe_1 = Pipeline([\n",
        "('col_extract', DatasetConstructor( db_type=1 )), #  Seleciona as features da base (4 a 9) e repassa para o classificador 1\n",
        "('Parzen_Window_Bayesian_Classifier_1',  GridSearchCV(estimator=ParzenWindowClassifier( kernel='gaussian'), param_grid={\"h\": H_values  }, scoring='accuracy', cv=inner_cv)) \n",
        "])\n",
        "Parzen_Window_pipe_2 = Pipeline([\n",
        "('col_extract', DatasetConstructor( db_type=2 )), #  Seleciona as features da base (10 a 19) e repassa para o classificador 2\n",
        "('Parzen_Window_Bayesian_Classifier_2',  GridSearchCV(estimator=ParzenWindowClassifier( kernel='gaussian'), param_grid={\"h\": H_values  }, scoring='accuracy', cv=inner_cv)) \n",
        "])\n",
        "Parzen_Window_pipe_3 = Pipeline([\n",
        "('col_extract', DatasetConstructor( db_type=3 )), #  Seleciona as features da base (4 a 19) e repassa para o classificador 3\n",
        "('Parzen_Window_Bayesian_Classifier_3',  GridSearchCV(estimator=ParzenWindowClassifier( kernel='gaussian'), param_grid={\"h\": H_values  }, scoring='accuracy', cv=inner_cv))\n",
        "])\n"
      ]
    },
    {
      "cell_type": "code",
      "execution_count": 339,
      "metadata": {
        "id": "_DKYAFHWF8fW",
        "colab": {
          "base_uri": "https://localhost:8080/"
        },
        "outputId": "6e73da94-dc70-4e0c-930f-3346664fc41f"
      },
      "outputs": [
        {
          "output_type": "stream",
          "name": "stdout",
          "text": [
            "CPU times: user 25.9 s, sys: 2.31 s, total: 28.2 s\n",
            "Wall time: 56min 34s\n"
          ]
        }
      ],
      "source": [
        "%%time\n",
        "ensembled_Parzen_Window_model = VotingClassifier(estimators=[('Parzen_Window_pipe_1', Parzen_Window_pipe_1), ('Parzen_Window_pipe_2', Parzen_Window_pipe_2), ('Parzen_Window_pipe_3', Parzen_Window_pipe_3)], voting='hard')\n",
        "Parzen_Window_score = cross_validate(ensembled_Parzen_Window_model, X=X, y=y, cv=outer_cv, scoring=scoring, n_jobs=-1,error_score='raise')"
      ]
    },
    {
      "cell_type": "markdown",
      "source": [
        "# Análise estatística dos resultados"
      ],
      "metadata": {
        "id": "SgR5mfjWAoUR"
      }
    },
    {
      "cell_type": "code",
      "source": [
        "alpha = 0.05 # Significance of test interval"
      ],
      "metadata": {
        "id": "AqJqE6veY58P"
      },
      "execution_count": 340,
      "outputs": []
    },
    {
      "cell_type": "markdown",
      "source": [
        "## Análise da acurácias"
      ],
      "metadata": {
        "id": "YRuuIT-OD6UB"
      }
    },
    {
      "cell_type": "code",
      "execution_count": 341,
      "metadata": {
        "id": "W8SnijDrGKI1"
      },
      "outputs": [],
      "source": [
        "bayesian_accuracy = bayesian_score['test_accuracy']\n",
        "k_nn_accuracy = k_nn_score['test_accuracy']\n",
        "LR_accuracy = LR_score['test_accuracy']\n",
        "Parzen_Window_accuracy = Parzen_Window_score['test_accuracy']\n",
        "accuracies = np.concatenate((bayesian_accuracy.reshape(len(bayesian_accuracy),1), k_nn_accuracy.reshape(len(k_nn_accuracy),1), LR_accuracy.reshape(len(LR_accuracy),1), Parzen_Window_accuracy.reshape(len(Parzen_Window_accuracy),1)), axis=1)\n",
        "\n"
      ]
    },
    {
      "cell_type": "code",
      "source": [
        "fig, axs = plt.subplots(2, 2,figsize=(10,10))\n",
        "fig = plt.figure(figsize =(10, 7))\n",
        "fig.suptitle(\"Histogramas das Acurácias\", fontsize=14)\n",
        "axs[0, 0].hist(bayesian_accuracy)\n",
        "axs[0, 0].set_title('Bayesiano Gaussiano')\n",
        "\n",
        "axs[0, 0].yaxis.grid(True)\n",
        "axs[0, 0]\n",
        "bplot1 = axs[0, 0]\n",
        "axs[0, 1].hist(k_nn_accuracy)\n",
        "axs[0, 1].set_title('K-NN',)\n",
        "\n",
        "axs[0, 1].yaxis.grid(True)\n",
        "bplot2 = axs[0, 1]\n",
        "axs[1, 0].hist(LR_accuracy)\n",
        "axs[1, 0].set_title('Regressão Logística')\n",
        "\n",
        "axs[1, 0].yaxis.grid(True)\n",
        "bplot3 = axs[1, 0]\n",
        "axs[1, 1].hist(Parzen_Window_accuracy)\n",
        "axs[1, 1].set_title('Janela de Parzen')\n",
        "\n",
        "axs[1, 1].yaxis.grid(True)\n",
        "bplot4 = axs[1, 1]\n",
        "\n",
        "fig.savefig(fname=\"Hist_Acuracies\",  facecolor='w', edgecolor='w',\n",
        "        orientation='portrait', papertype=None, format=None,\n",
        "        transparent=False, bbox_inches=None, pad_inches=0.1,\n",
        "        frameon=None, metadata=None)"
      ],
      "metadata": {
        "colab": {
          "base_uri": "https://localhost:8080/",
          "height": 624
        },
        "id": "t-9I6R7jzFgr",
        "outputId": "49c8d680-8f28-4a4d-9b9d-44a1904c1dee"
      },
      "execution_count": 394,
      "outputs": [
        {
          "output_type": "display_data",
          "data": {
            "image/png": "[encoded data removed]",
            "text/plain": [
              "<Figure size 720x720 with 4 Axes>"
            ]
          },
          "metadata": {
            "needs_background": "light"
          }
        },
        {
          "output_type": "display_data",
          "data": {
            "text/plain": [
              "<Figure size 720x504 with 0 Axes>"
            ]
          },
          "metadata": {}
        }
      ]
    },
    {
      "cell_type": "code",
      "source": [
        "\n",
        "bayesian_normal_test_accuracy = stats.normaltest(bayesian_accuracy, nan_policy='propagate')\n",
        "k_nn_normal_test_accuracy = stats.normaltest(k_nn_accuracy, nan_policy='propagate')\n",
        "LR_normal_test_accuracy = stats.normaltest(LR_accuracy, nan_policy='propagate')\n",
        "Parzen_Window_normal_test_accuracy = stats.normaltest(Parzen_Window_accuracy, nan_policy='propagate')\n",
        "\n",
        "\n",
        "print(\"H0:Is a Gaussian Distribution\")\n",
        "print(\"H1:Is NOT a Gaussian Distribution\")\n",
        "if bayesian_normal_test_accuracy.pvalue < alpha:  # null hypothesis: x comes from a normal distribution\n",
        "    print(\"The null hypothesis can be rejected for bayesian accuracy\")\n",
        "else:\n",
        "    print(\"The null hypothesis cannot be rejected for bayesian accuracy\")\n",
        "if k_nn_normal_test_accuracy.pvalue < alpha:  # null hypothesis: x comes from a normal distribution\n",
        "    print(\"The null hypothesis can be rejected for k_nn accuracy\")\n",
        "else:\n",
        "    print(\"The null hypothesis cannot be rejected for k_nn accuracy\")\n",
        "if LR_normal_test_accuracy.pvalue < alpha:  # null hypothesis: x comes from a normal distribution\n",
        "    print(\"The null hypothesis can be rejected for LR accuracy\")\n",
        "else:\n",
        "    print(\"The null hypothesis cannot be rejected for LR accuracy\")\n",
        "if Parzen_Window_normal_test_accuracy.pvalue < alpha:  # null hypothesis: x comes from a normal distribution\n",
        "    print(\"The null hypothesis can be rejected for Parzen_Window accuracy\")\n",
        "else:\n",
        "    print(\"The null hypothesis cannot be rejected for Parzen_Window accuracy\")"
      ],
      "metadata": {
        "colab": {
          "base_uri": "https://localhost:8080/"
        },
        "id": "Z-u46QxURNiy",
        "outputId": "ef4526a6-6016-4be5-91e3-6c8b092c16a4"
      },
      "execution_count": 343,
      "outputs": [
        {
          "output_type": "stream",
          "name": "stdout",
          "text": [
            "H0:Is a Gaussian Distribution\n",
            "H1:Is NOT a Gaussian Distribution\n",
            "The null hypothesis can be rejected for bayesian accuracy\n",
            "The null hypothesis cannot be rejected for k_nn accuracy\n",
            "The null hypothesis cannot be rejected for LR accuracy\n",
            "The null hypothesis cannot be rejected for Parzen_Window accuracy\n"
          ]
        }
      ]
    },
    {
      "cell_type": "code",
      "source": [
        "bayesian_accuracy_confidence_interval = (np.mean(bayesian_accuracy),sms.DescrStatsW(bayesian_accuracy).tconfint_mean())\n",
        "k_nn_accuracy_confidence_interval = (np.mean(k_nn_accuracy),sms.DescrStatsW(k_nn_accuracy).tconfint_mean())\n",
        "LR_accuracy_confidence_interval = (np.mean(LR_accuracy),sms.DescrStatsW(LR_accuracy).tconfint_mean())\n",
        "Parzen_Window_accuracy_confidence_interval = (np.mean(Parzen_Window_accuracy),sms.DescrStatsW(Parzen_Window_accuracy).tconfint_mean())\n",
        "print(\"Bayesian Gaussian Classifier accuracy confidence Level: Mean={}, Lower/Upper bound={}\".format(bayesian_accuracy_confidence_interval[0],bayesian_accuracy_confidence_interval[1]))\n",
        "print(\"Bayesian K-NN Classifier accuracy confidence Level: Mean={}, Lower/Upper bound={}\".format(k_nn_accuracy_confidence_interval[0],k_nn_accuracy_confidence_interval[1]))\n",
        "print(\"Logistic Regression Classifier accuracy confidence Level: Mean={}, Lower/Upper bound={}\".format(LR_accuracy_confidence_interval[0],LR_accuracy_confidence_interval[1]))\n",
        "print(\"Bayesian Parzen_Window Classifier accuracy confidence Level: Mean={}, Lower/Upper bound={}\".format(Parzen_Window_accuracy_confidence_interval[0],bayesian_accuracy_confidence_interval[1]))"
      ],
      "metadata": {
        "colab": {
          "base_uri": "https://localhost:8080/"
        },
        "id": "OmUqdIPYbXRl",
        "outputId": "b3ef21d4-8797-4c53-f34c-577e88090f0c"
      },
      "execution_count": 344,
      "outputs": [
        {
          "output_type": "stream",
          "name": "stdout",
          "text": [
            "Bayesian Gaussian Classifier accuracy confidence Level: Mean=0.736095238095238, Lower/Upper bound=(0.7331027302628178, 0.7390877459276582)\n",
            "Bayesian K-NN Classifier accuracy confidence Level: Mean=0.9129523809523808, Lower/Upper bound=(0.9108824467952558, 0.9150223151095062)\n",
            "Logistic Regression Classifier accuracy confidence Level: Mean=0.8545396825396824, Lower/Upper bound=(0.852107496024669, 0.8569718690546962)\n",
            "Bayesian Parzen_Window Classifier accuracy confidence Level: Mean=0.9055714285714286, Lower/Upper bound=(0.7331027302628178, 0.7390877459276582)\n"
          ]
        }
      ]
    },
    {
      "cell_type": "code",
      "source": [
        "import matplotlib.pyplot as plt\n",
        "import numpy as np\n",
        " \n",
        "fig = plt.figure(figsize =(10, 7))\n",
        " \n",
        "# Creating axes instance\n",
        "ax = fig.add_axes([0, 0, 1, 1])\n",
        " \n",
        "# Creating plot\n",
        "bp_accuracies = ax.boxplot(accuracies, labels=[\"Gaussiano Bayesiano\", \"K-NN\", \"Logistic Regression\",\"Janela de Parzen Bayesiano\"],patch_artist=True)\n",
        "plt.title(\"Boxplot Acurácias\")\n",
        "plt.xlabel(\"Modelos\")\n",
        "plt.ylabel(\"Acurácia\")\n",
        "ax.yaxis.grid(True)\n",
        "# show plot\n",
        "#plt.setp(bp_accuracies, color='darkkhaki')\n",
        "#ax.add_patch(facecolor=['darkkhaki', 'royalblue'])\n",
        "plt.show()\n",
        "\n",
        "fig.savefig(fname=\"Boxplot_Accuracies\",  facecolor='w', edgecolor='w',\n",
        "        orientation='portrait', papertype=None, format=None,\n",
        "        transparent=False, bbox_inches=None, pad_inches=0.1,\n",
        "        frameon=None, metadata=None)\n"
      ],
      "metadata": {
        "colab": {
          "base_uri": "https://localhost:8080/",
          "height": 582
        },
        "id": "8Tq0fj7dOwyH",
        "outputId": "0106022b-82af-4f3e-83da-3954f6a4aa65"
      },
      "execution_count": 396,
      "outputs": [
        {
          "output_type": "display_data",
          "data": {
            "image/png": "[encoded data removed]",
            "text/plain": [
              "<Figure size 720x504 with 1 Axes>"
            ]
          },
          "metadata": {
            "needs_background": "light"
          }
        }
      ]
    },
    {
      "cell_type": "code",
      "source": [
        "stats.friedmanchisquare(bayesian_accuracy,k_nn_accuracy,LR_accuracy,Parzen_Window_accuracy)"
      ],
      "metadata": {
        "colab": {
          "base_uri": "https://localhost:8080/"
        },
        "id": "Z-XhR9OORL0J",
        "outputId": "7acc367e-0641-4e16-d201-0fa03a459dc6"
      },
      "execution_count": 346,
      "outputs": [
        {
          "output_type": "execute_result",
          "data": {
            "text/plain": [
              "FriedmanchisquareResult(statistic=822.8234301147871, pvalue=4.856043828721881e-178)"
            ]
          },
          "metadata": {},
          "execution_count": 346
        }
      ]
    },
    {
      "cell_type": "markdown",
      "source": [
        "## Análise das precisões"
      ],
      "metadata": {
        "id": "_Hz5qKYCEGQQ"
      }
    },
    {
      "cell_type": "code",
      "execution_count": 347,
      "metadata": {
        "id": "DGQDslbdmEH9"
      },
      "outputs": [],
      "source": [
        "bayesian_precision = bayesian_score['test_precision_macro']\n",
        "k_nn_precision = k_nn_score['test_precision_macro']\n",
        "LR_precision = LR_score['test_precision_macro']\n",
        "Parzen_Window_precision = Parzen_Window_score['test_precision_macro']\n",
        "precisions = np.concatenate((bayesian_precision.reshape(len(bayesian_precision),1), k_nn_precision.reshape(len(k_nn_precision),1), LR_precision.reshape(len(LR_precision),1), Parzen_Window_precision.reshape(len(Parzen_Window_precision),1)), axis=1)\n"
      ]
    },
    {
      "cell_type": "code",
      "source": [
        "fig, axs = plt.subplots(2, 2,figsize=(10,10))\n",
        "fig = plt.figure(figsize =(10, 7))\n",
        "fig.suptitle(\"Histogramas das precisões\", fontsize=14)\n",
        "axs[0, 0].hist(bayesian_precision)\n",
        "axs[0, 0].set_title('Bayesiano Gaussiano')\n",
        "\n",
        "axs[0, 0].yaxis.grid(True)\n",
        "axs[0, 0]\n",
        "bplot1 = axs[0, 0]\n",
        "axs[0, 1].hist(k_nn_precision)\n",
        "axs[0, 1].set_title('K-NN')\n",
        "\n",
        "axs[0, 1].yaxis.grid(True)\n",
        "bplot2 = axs[0, 1]\n",
        "axs[1, 0].hist(LR_precision)\n",
        "axs[1, 0].set_title('Regressão Logística')\n",
        "\n",
        "axs[1, 0].yaxis.grid(True)\n",
        "bplot3 = axs[1, 0]\n",
        "axs[1, 1].hist(Parzen_Window_precision)\n",
        "axs[1, 1].set_title('Janela de Parzen')\n",
        "\n",
        "axs[1, 1].yaxis.grid(True)\n",
        "bplot4 = axs[1, 1]\n",
        "\n",
        "fig.savefig(fname=\"Hist_Precision\",  facecolor='w', edgecolor='w',\n",
        "        orientation='portrait', papertype=None, format=None,\n",
        "        transparent=False, bbox_inches=None, pad_inches=0.1,\n",
        "        frameon=None, metadata=None)"
      ],
      "metadata": {
        "colab": {
          "base_uri": "https://localhost:8080/",
          "height": 624
        },
        "id": "oXDpAxMItOmU",
        "outputId": "c2ae2d21-0d67-4643-faba-2a229b32068c"
      },
      "execution_count": 348,
      "outputs": [
        {
          "output_type": "display_data",
          "data": {
            "image/png": "[encoded data removed]",
            "text/plain": [
              "<Figure size 720x720 with 4 Axes>"
            ]
          },
          "metadata": {
            "needs_background": "light"
          }
        },
        {
          "output_type": "display_data",
          "data": {
            "text/plain": [
              "<Figure size 720x504 with 0 Axes>"
            ]
          },
          "metadata": {}
        }
      ]
    },
    {
      "cell_type": "code",
      "source": [
        "bayesian_normal_test_precision = stats.normaltest(bayesian_precision, nan_policy='propagate')\n",
        "k_nn_normal_test_precision = stats.normaltest(k_nn_precision, nan_policy='propagate')\n",
        "LR_normal_test_precision = stats.normaltest(LR_precision, nan_policy='propagate')\n",
        "Parzen_Window_normal_test_precision = stats.normaltest(Parzen_Window_precision, nan_policy='propagate')\n",
        "\n",
        "\n",
        "print(\"H0:Is a Gaussian Distribution\")\n",
        "print(\"H1:Is NOT a Gaussian Distribution\")\n",
        "if bayesian_normal_test_precision.pvalue < alpha:  # null hypothesis: x comes from a normal distribution\n",
        "    print(\"The null hypothesis can be rejected for bayesian precision\")\n",
        "else:\n",
        "    print(\"The null hypothesis cannot be rejected for bayesian precision\")\n",
        "if k_nn_normal_test_precision.pvalue < alpha:  # null hypothesis: x comes from a normal distribution\n",
        "    print(\"The null hypothesis can be rejected for k_nn precision\")\n",
        "else:\n",
        "    print(\"The null hypothesis cannot be rejected for k_nn precision\")\n",
        "if LR_normal_test_precision.pvalue < alpha:  # null hypothesis: x comes from a normal distribution\n",
        "    print(\"The null hypothesis can be rejected for LR precision\")\n",
        "else:\n",
        "    print(\"The null hypothesis cannot be rejected for LR precision\")\n",
        "if Parzen_Window_normal_test_precision.pvalue < alpha:  # null hypothesis: x comes from a normal distribution\n",
        "    print(\"The null hypothesis can be rejected for Parzen_Window precision\")\n",
        "else:\n",
        "    print(\"The null hypothesis cannot be rejected for Parzen_Window precision\")"
      ],
      "metadata": {
        "colab": {
          "base_uri": "https://localhost:8080/"
        },
        "id": "iGPAHxSjEN0Z",
        "outputId": "507caa0d-321e-410f-8f30-ceecfbddf7b5"
      },
      "execution_count": 349,
      "outputs": [
        {
          "output_type": "stream",
          "name": "stdout",
          "text": [
            "H0:Is a Gaussian Distribution\n",
            "H1:Is NOT a Gaussian Distribution\n",
            "The null hypothesis cannot be rejected for bayesian precision\n",
            "The null hypothesis cannot be rejected for k_nn precision\n",
            "The null hypothesis cannot be rejected for LR precision\n",
            "The null hypothesis cannot be rejected for Parzen_Window precision\n"
          ]
        }
      ]
    },
    {
      "cell_type": "code",
      "source": [
        "bayesian_precision_confidence_interval = (np.mean(bayesian_precision),sms.DescrStatsW(bayesian_precision).tconfint_mean())\n",
        "k_nn_precision_confidence_interval = (np.mean(k_nn_precision),sms.DescrStatsW(k_nn_precision).tconfint_mean())\n",
        "LR_precision_confidence_interval = (np.mean(LR_precision),sms.DescrStatsW(LR_precision).tconfint_mean())\n",
        "Parzen_Window_precision_confidence_interval = (np.mean(Parzen_Window_precision),sms.DescrStatsW(Parzen_Window_precision).tconfint_mean())\n",
        "print(\"Bayesian Gaussian Classifier precision confidence Level: Mean={}, Lower/Upper bound={}\".format(bayesian_precision_confidence_interval[0],bayesian_precision_confidence_interval[1]))\n",
        "print(\"Bayesian K-NN Classifier precision confidence Level: Mean={}, Lower/Upper bound={}\".format(k_nn_precision_confidence_interval[0],k_nn_precision_confidence_interval[1]))\n",
        "print(\"Logistic Regression Classifier precision confidence Level: Mean={}, Lower/Upper bound={}\".format(LR_precision_confidence_interval[0],LR_precision_confidence_interval[1]))\n",
        "print(\"Bayesian Parzen_Window Classifier precision confidence Level: Mean={}, Lower/Upper bound={}\".format(Parzen_Window_precision_confidence_interval[0],bayesian_precision_confidence_interval[1]))"
      ],
      "metadata": {
        "colab": {
          "base_uri": "https://localhost:8080/"
        },
        "id": "vjnivc9OE8N6",
        "outputId": "49ad93bf-5ca3-453a-8f7f-4a721a85d27a"
      },
      "execution_count": 350,
      "outputs": [
        {
          "output_type": "stream",
          "name": "stdout",
          "text": [
            "Bayesian Gaussian Classifier precision confidence Level: Mean=0.7391558387608368, Lower/Upper bound=(0.7358139171627979, 0.7424977603588759)\n",
            "Bayesian K-NN Classifier precision confidence Level: Mean=0.9145700737841884, Lower/Upper bound=(0.9124768709626115, 0.9166632766057649)\n",
            "Logistic Regression Classifier precision confidence Level: Mean=0.8564742914525897, Lower/Upper bound=(0.8538785236607076, 0.8590700592444718)\n",
            "Bayesian Parzen_Window Classifier precision confidence Level: Mean=0.9073525820520574, Lower/Upper bound=(0.7358139171627979, 0.7424977603588759)\n"
          ]
        }
      ]
    },
    {
      "cell_type": "code",
      "source": [
        "import matplotlib.pyplot as plt\n",
        "import numpy as np\n",
        " \n",
        "fig = plt.figure(figsize =(10, 7))\n",
        " \n",
        "# Creating axes instance\n",
        "ax = fig.add_axes([0, 0, 1, 1])\n",
        " \n",
        "# Creating plot\n",
        "bp_precisions = ax.boxplot(precisions, labels=[\"Gaussiano Bayesiano\", \"K-NN\", \"Logistic Regression\",\"Janela de Parzen Bayesiano\"],patch_artist=True)\n",
        "plt.title(\"Boxplot Precisões\")\n",
        "plt.xlabel(\"Modelos\")\n",
        "plt.ylabel(\"Precisão\")\n",
        "ax.yaxis.grid(True)\n",
        "# show plot\n",
        "plt.show()\n",
        "\n",
        "\n",
        "fig.savefig(fname=\"Boxplot_Precisions\",  facecolor='w', edgecolor='w',\n",
        "        orientation='portrait', papertype=None, format=None,\n",
        "        transparent=False, bbox_inches=None, pad_inches=0.1,\n",
        "        frameon=None, metadata=None)"
      ],
      "metadata": {
        "colab": {
          "base_uri": "https://localhost:8080/",
          "height": 582
        },
        "id": "x7IF5iPBRTeI",
        "outputId": "8fa99ce8-552d-4bbf-b3a7-08347f08ea3e"
      },
      "execution_count": 397,
      "outputs": [
        {
          "output_type": "display_data",
          "data": {
            "image/png": "[encoded data removed]",
            "text/plain": [
              "<Figure size 720x504 with 1 Axes>"
            ]
          },
          "metadata": {
            "needs_background": "light"
          }
        }
      ]
    },
    {
      "cell_type": "code",
      "source": [
        "stats.friedmanchisquare(bayesian_precision,k_nn_precision,LR_precision,Parzen_Window_precision)"
      ],
      "metadata": {
        "colab": {
          "base_uri": "https://localhost:8080/"
        },
        "id": "XXWnlCXCEQsS",
        "outputId": "819e8fdb-272b-409d-8b74-e3c2d02714a1"
      },
      "execution_count": 352,
      "outputs": [
        {
          "output_type": "execute_result",
          "data": {
            "text/plain": [
              "FriedmanchisquareResult(statistic=811.027342447483, pvalue=1.7564773773846643e-175)"
            ]
          },
          "metadata": {},
          "execution_count": 352
        }
      ]
    },
    {
      "cell_type": "markdown",
      "source": [
        "## Análise das coberturas"
      ],
      "metadata": {
        "id": "8WRgFMwzHAU5"
      }
    },
    {
      "cell_type": "code",
      "execution_count": 353,
      "metadata": {
        "id": "_hgtMatBmFML"
      },
      "outputs": [],
      "source": [
        "bayesian_recall = bayesian_score['test_recall_macro']\n",
        "k_nn_recall = k_nn_score['test_recall_macro']\n",
        "LR_recall = LR_score['test_recall_macro']\n",
        "Parzen_Window_recall = Parzen_Window_score['test_recall_macro']\n",
        "recalls = np.concatenate((bayesian_recall.reshape(len(bayesian_recall),1), k_nn_recall.reshape(len(k_nn_recall),1), LR_recall.reshape(len(LR_recall),1), Parzen_Window_recall.reshape(len(Parzen_Window_recall),1)), axis=1)\n"
      ]
    },
    {
      "cell_type": "code",
      "source": [
        "fig, axs = plt.subplots(2, 2,figsize=(10,10))\n",
        "fig = plt.figure(figsize =(10, 7))\n",
        "fig.suptitle(\"Histogramas das Coberturas\", fontsize=14)\n",
        "axs[0, 0].hist(bayesian_recall)\n",
        "axs[0, 0].set_title('Bayesiano Gaussiano')\n",
        "\n",
        "axs[0, 0].yaxis.grid(True)\n",
        "axs[0, 0]\n",
        "bplot1 = axs[0, 0]\n",
        "axs[0, 1].hist(k_nn_recall)\n",
        "axs[0, 1].set_title('K-NN')\n",
        "\n",
        "axs[0, 1].yaxis.grid(True)\n",
        "bplot2 = axs[0, 1]\n",
        "axs[1, 0].hist(LR_recall)\n",
        "axs[1, 0].set_title('Regressão Logística')\n",
        "\n",
        "axs[1, 0].yaxis.grid(True)\n",
        "bplot3 = axs[1, 0]\n",
        "axs[1, 1].hist(Parzen_Window_recall)\n",
        "axs[1, 1].set_title('Janela de Parzen')\n",
        "\n",
        "axs[1, 1].yaxis.grid(True)\n",
        "bplot4 = axs[1, 1]\n",
        "\n",
        "fig.savefig(fname=\"Hist_Recall\",  facecolor='w', edgecolor='w',\n",
        "        orientation='portrait', papertype=None, format=None,\n",
        "        transparent=False, bbox_inches=None, pad_inches=0.1,\n",
        "        frameon=None, metadata=None)"
      ],
      "metadata": {
        "colab": {
          "base_uri": "https://localhost:8080/",
          "height": 624
        },
        "id": "1I0booeCzX8p",
        "outputId": "5ac48055-92e9-473e-d274-6e582dae1865"
      },
      "execution_count": 354,
      "outputs": [
        {
          "output_type": "display_data",
          "data": {
            "image/png": "[encoded data removed]",
            "text/plain": [
              "<Figure size 720x720 with 4 Axes>"
            ]
          },
          "metadata": {
            "needs_background": "light"
          }
        },
        {
          "output_type": "display_data",
          "data": {
            "text/plain": [
              "<Figure size 720x504 with 0 Axes>"
            ]
          },
          "metadata": {}
        }
      ]
    },
    {
      "cell_type": "code",
      "source": [
        "bayesian_normal_test_recall = stats.normaltest(bayesian_recall, nan_policy='propagate')\n",
        "k_nn_normal_test_recall = stats.normaltest(k_nn_recall, nan_policy='propagate')\n",
        "LR_normal_test_recall = stats.normaltest(LR_recall, nan_policy='propagate')\n",
        "Parzen_Window_normal_test_recall = stats.normaltest(Parzen_Window_recall, nan_policy='propagate')\n",
        "\n",
        "\n",
        "print(\"H0:Is a Gaussian Distribution\")\n",
        "print(\"H1:Is NOT a Gaussian Distribution\")\n",
        "if bayesian_normal_test_recall.pvalue < alpha:  # null hypothesis: x comes from a normal distribution\n",
        "    print(\"The null hypothesis can be rejected for bayesian recall\")\n",
        "else:\n",
        "    print(\"The null hypothesis cannot be rejected for bayesian recall\")\n",
        "if k_nn_normal_test_recall.pvalue < alpha:  # null hypothesis: x comes from a normal distribution\n",
        "    print(\"The null hypothesis can be rejected for k_nn recall\")\n",
        "else:\n",
        "    print(\"The null hypothesis cannot be rejected for k_nn recall\")\n",
        "if LR_normal_test_recall.pvalue < alpha:  # null hypothesis: x comes from a normal distribution\n",
        "    print(\"The null hypothesis can be rejected for LR recall\")\n",
        "else:\n",
        "    print(\"The null hypothesis cannot be rejected for LR recall\")\n",
        "if Parzen_Window_normal_test_recall.pvalue < alpha:  # null hypothesis: x comes from a normal distribution\n",
        "    print(\"The null hypothesis can be rejected for Parzen_Window recall\")\n",
        "else:\n",
        "    print(\"The null hypothesis cannot be rejected for Parzen_Window recall\")"
      ],
      "metadata": {
        "colab": {
          "base_uri": "https://localhost:8080/"
        },
        "id": "yuLsSfRsHNzj",
        "outputId": "949874f6-35cf-4d68-a629-622fe3f463a4"
      },
      "execution_count": 355,
      "outputs": [
        {
          "output_type": "stream",
          "name": "stdout",
          "text": [
            "H0:Is a Gaussian Distribution\n",
            "H1:Is NOT a Gaussian Distribution\n",
            "The null hypothesis can be rejected for bayesian recall\n",
            "The null hypothesis cannot be rejected for k_nn recall\n",
            "The null hypothesis cannot be rejected for LR recall\n",
            "The null hypothesis cannot be rejected for Parzen_Window recall\n"
          ]
        }
      ]
    },
    {
      "cell_type": "code",
      "source": [
        "bayesian_recall_confidence_interval = (np.mean(bayesian_recall),sms.DescrStatsW(bayesian_recall).tconfint_mean())\n",
        "k_nn_recall_confidence_interval = (np.mean(k_nn_recall),sms.DescrStatsW(k_nn_recall).tconfint_mean())\n",
        "LR_recall_confidence_interval = (np.mean(LR_recall),sms.DescrStatsW(LR_recall).tconfint_mean())\n",
        "Parzen_Window_recall_confidence_interval = (np.mean(Parzen_Window_recall),sms.DescrStatsW(Parzen_Window_recall).tconfint_mean())\n",
        "print(\"Bayesian Gaussian Classifier recall confidence Level: Mean={}, Lower/Upper bound={}\".format(bayesian_recall_confidence_interval[0],bayesian_recall_confidence_interval[1]))\n",
        "print(\"Bayesian K-NN Classifier recall confidence Level: Mean={}, Lower/Upper bound={}\".format(k_nn_recall_confidence_interval[0],k_nn_recall_confidence_interval[1]))\n",
        "print(\"Logistic Regression Classifier recall confidence Level: Mean={}, Lower/Upper bound={}\".format(LR_recall_confidence_interval[0],LR_recall_confidence_interval[1]))\n",
        "print(\"Bayesian Parzen_Window Classifier recall confidence Level: Mean={}, Lower/Upper bound={}\".format(Parzen_Window_recall_confidence_interval[0],bayesian_recall_confidence_interval[1]))"
      ],
      "metadata": {
        "colab": {
          "base_uri": "https://localhost:8080/"
        },
        "id": "_YFsfIGVHguj",
        "outputId": "7a43d4a4-74db-472c-94d0-7ba7bbf17e80"
      },
      "execution_count": 356,
      "outputs": [
        {
          "output_type": "stream",
          "name": "stdout",
          "text": [
            "Bayesian Gaussian Classifier recall confidence Level: Mean=0.736095238095238, Lower/Upper bound=(0.7331027302628178, 0.7390877459276582)\n",
            "Bayesian K-NN Classifier recall confidence Level: Mean=0.9129523809523808, Lower/Upper bound=(0.9108824467952558, 0.9150223151095062)\n",
            "Logistic Regression Classifier recall confidence Level: Mean=0.8545396825396824, Lower/Upper bound=(0.852107496024669, 0.8569718690546962)\n",
            "Bayesian Parzen_Window Classifier recall confidence Level: Mean=0.9055714285714286, Lower/Upper bound=(0.7331027302628178, 0.7390877459276582)\n"
          ]
        }
      ]
    },
    {
      "cell_type": "code",
      "source": [
        "import matplotlib.pyplot as plt\n",
        "import numpy as np\n",
        " \n",
        "fig = plt.figure(figsize =(10, 7))\n",
        " \n",
        "# Creating axes instance\n",
        "ax = fig.add_axes([0, 0, 1, 1])\n",
        " \n",
        "# Creating plot\n",
        "bp_recalls = ax.boxplot(recalls, labels=[\"Gaussiano Bayesiano\", \"K-NN\", \"Logistic Regression\",\"Janela de Parzen Bayesiano\"],patch_artist=True)\n",
        "plt.title(\"Boxplot Coberturas\")\n",
        "plt.xlabel(\"Modelos\")\n",
        "plt.ylabel(\"Cobertura\")\n",
        "ax.yaxis.grid(True)\n",
        "# show plot\n",
        "plt.show()\n",
        "\n",
        "fig.savefig(fname=\"Boxplot_Recalls\",  facecolor='w', edgecolor='w',\n",
        "        orientation='portrait', papertype=None, format=None,\n",
        "        transparent=False, bbox_inches=None, pad_inches=0.1,\n",
        "        frameon=None, metadata=None)"
      ],
      "metadata": {
        "colab": {
          "base_uri": "https://localhost:8080/",
          "height": 582
        },
        "id": "8W5rjvAKTXyR",
        "outputId": "56aebaf2-0456-4d10-a212-5ad788525dd1"
      },
      "execution_count": 398,
      "outputs": [
        {
          "output_type": "display_data",
          "data": {
            "image/png": "[encoded data removed]",
            "text/plain": [
              "<Figure size 720x504 with 1 Axes>"
            ]
          },
          "metadata": {
            "needs_background": "light"
          }
        }
      ]
    },
    {
      "cell_type": "code",
      "source": [
        "stats.friedmanchisquare(bayesian_recall,k_nn_recall,LR_recall,Parzen_Window_recall)"
      ],
      "metadata": {
        "colab": {
          "base_uri": "https://localhost:8080/"
        },
        "id": "zwjtcxhJGPiQ",
        "outputId": "f59cba24-ad87-4ec6-805a-c366e492fbc3"
      },
      "execution_count": 358,
      "outputs": [
        {
          "output_type": "execute_result",
          "data": {
            "text/plain": [
              "FriedmanchisquareResult(statistic=820.7755308392318, pvalue=1.3503254805485892e-177)"
            ]
          },
          "metadata": {},
          "execution_count": 358
        }
      ]
    },
    {
      "cell_type": "markdown",
      "source": [
        "## Análise das F-measures"
      ],
      "metadata": {
        "id": "53kqD6E3HupE"
      }
    },
    {
      "cell_type": "code",
      "execution_count": 359,
      "metadata": {
        "id": "lIZnrKwdmEsh"
      },
      "outputs": [],
      "source": [
        "bayesian_f1 = bayesian_score['test_f1_macro']\n",
        "k_nn_f1 = k_nn_score['test_f1_macro']\n",
        "LR_f1 = LR_score['test_f1_macro']\n",
        "Parzen_Window_f1 = Parzen_Window_score['test_f1_macro']\n",
        "f1_scores = np.concatenate((bayesian_f1.reshape(len(bayesian_f1),1), k_nn_f1.reshape(len(k_nn_f1),1), LR_f1.reshape(len(LR_f1),1), Parzen_Window_f1.reshape(len(Parzen_Window_f1),1)), axis=1)\n"
      ]
    },
    {
      "cell_type": "code",
      "source": [
        "fig, axs = plt.subplots(2, 2,figsize=(10,10))\n",
        "fig = plt.figure(figsize =(10, 7))\n",
        "fig.suptitle(\"Histogramas das F-Measures\", fontsize=14)\n",
        "axs[0, 0].hist(bayesian_f1)\n",
        "axs[0, 0].set_title('Bayesiano Gaussiano')\n",
        "\n",
        "axs[0, 0].yaxis.grid(True)\n",
        "axs[0, 0]\n",
        "bplot1 = axs[0, 0]\n",
        "axs[0, 1].hist(k_nn_f1)\n",
        "axs[0, 1].set_title('K-NN')\n",
        "\n",
        "axs[0, 1].yaxis.grid(True)\n",
        "bplot2 = axs[0, 1]\n",
        "axs[1, 0].hist(LR_f1)\n",
        "axs[1, 0].set_title('Regressão Logística')\n",
        "\n",
        "axs[1, 0].yaxis.grid(True)\n",
        "bplot3 = axs[1, 0]\n",
        "axs[1, 1].hist(Parzen_Window_f1)\n",
        "axs[1, 1].set_title('Janela de Parzen')\n",
        "\n",
        "axs[1, 1].yaxis.grid(True)\n",
        "bplot4 = axs[1, 1]\n",
        "\n",
        "fig.savefig(fname=\"Hist_F_Measures\",  facecolor='w', edgecolor='w',\n",
        "        orientation='portrait', papertype=None, format=None,\n",
        "        transparent=False, bbox_inches=None, pad_inches=0.1,\n",
        "        frameon=None, metadata=None)"
      ],
      "metadata": {
        "colab": {
          "base_uri": "https://localhost:8080/",
          "height": 624
        },
        "id": "vJTaQ7guzqxF",
        "outputId": "033e0ec0-b5f7-4961-8b06-dc0dc7284d1b"
      },
      "execution_count": 360,
      "outputs": [
        {
          "output_type": "display_data",
          "data": {
            "image/png": "[encoded data removed]",
            "text/plain": [
              "<Figure size 720x720 with 4 Axes>"
            ]
          },
          "metadata": {
            "needs_background": "light"
          }
        },
        {
          "output_type": "display_data",
          "data": {
            "text/plain": [
              "<Figure size 720x504 with 0 Axes>"
            ]
          },
          "metadata": {}
        }
      ]
    },
    {
      "cell_type": "code",
      "source": [
        "bayesian_normal_test_f1 = stats.normaltest(bayesian_f1, nan_policy='propagate')\n",
        "k_nn_normal_test_f1 = stats.normaltest(k_nn_f1, nan_policy='propagate')\n",
        "LR_normal_test_f1 = stats.normaltest(LR_f1, nan_policy='propagate')\n",
        "Parzen_Window_normal_test_f1 = stats.normaltest(Parzen_Window_f1, nan_policy='propagate')\n",
        "\n",
        "\n",
        "print(\"H0:Is a Gaussian Distribution\")\n",
        "print(\"H1:Is NOT a Gaussian Distribution\")\n",
        "if bayesian_normal_test_f1.pvalue < alpha:  # null hypothesis: x comes from a normal distribution\n",
        "    print(\"The null hypothesis can be rejected for bayesian f1\")\n",
        "else:\n",
        "    print(\"The null hypothesis cannot be rejected for bayesian f1\")\n",
        "if k_nn_normal_test_f1.pvalue < alpha:  # null hypothesis: x comes from a normal distribution\n",
        "    print(\"The null hypothesis can be rejected for k_nn f1\")\n",
        "else:\n",
        "    print(\"The null hypothesis cannot be rejected for k_nn f1\")\n",
        "if LR_normal_test_f1.pvalue < alpha:  # null hypothesis: x comes from a normal distribution\n",
        "    print(\"The null hypothesis can be rejected for LR f1\")\n",
        "else:\n",
        "    print(\"The null hypothesis cannot be rejected for LR f1\")\n",
        "if Parzen_Window_normal_test_f1.pvalue < alpha:  # null hypothesis: x comes from a normal distribution\n",
        "    print(\"The null hypothesis can be rejected for Parzen_Window f1\")\n",
        "else:\n",
        "    print(\"The null hypothesis cannot be rejected for Parzen_Window f1\")"
      ],
      "metadata": {
        "colab": {
          "base_uri": "https://localhost:8080/"
        },
        "id": "Uy_Hq7lFH4ef",
        "outputId": "6007e3fb-1375-405f-c77c-54b52e8daf71"
      },
      "execution_count": 361,
      "outputs": [
        {
          "output_type": "stream",
          "name": "stdout",
          "text": [
            "H0:Is a Gaussian Distribution\n",
            "H1:Is NOT a Gaussian Distribution\n",
            "The null hypothesis can be rejected for bayesian f1\n",
            "The null hypothesis cannot be rejected for k_nn f1\n",
            "The null hypothesis cannot be rejected for LR f1\n",
            "The null hypothesis cannot be rejected for Parzen_Window f1\n"
          ]
        }
      ]
    },
    {
      "cell_type": "code",
      "source": [
        "bayesian_f1_confidence_interval = (np.mean(bayesian_f1),sms.DescrStatsW(bayesian_f1).tconfint_mean())\n",
        "k_nn_f1_confidence_interval = (np.mean(k_nn_f1),sms.DescrStatsW(k_nn_f1).tconfint_mean())\n",
        "LR_f1_confidence_interval = (np.mean(LR_f1),sms.DescrStatsW(LR_f1).tconfint_mean())\n",
        "Parzen_Window_f1_confidence_interval = (np.mean(Parzen_Window_f1),sms.DescrStatsW(Parzen_Window_f1).tconfint_mean())\n",
        "print(\"Bayesian Gaussian Classifier f1 confidence Level: Mean={}, Lower/Upper bound={}\".format(bayesian_f1_confidence_interval[0],bayesian_f1_confidence_interval[1]))\n",
        "print(\"Bayesian K-NN Classifier f1 confidence Level: Mean={}, Lower/Upper bound={}\".format(k_nn_f1_confidence_interval[0],k_nn_f1_confidence_interval[1]))\n",
        "print(\"Logistic Regression Classifier f1 confidence Level: Mean={}, Lower/Upper bound={}\".format(LR_f1_confidence_interval[0],LR_f1_confidence_interval[1]))\n",
        "print(\"Bayesian Parzen_Window Classifier f1 confidence Level: Mean={}, Lower/Upper bound={}\".format(Parzen_Window_f1_confidence_interval[0],bayesian_f1_confidence_interval[1]))"
      ],
      "metadata": {
        "colab": {
          "base_uri": "https://localhost:8080/"
        },
        "id": "cXEC2zkqIU6r",
        "outputId": "ef798c4e-da16-49a1-ed16-97f87d733e19"
      },
      "execution_count": 406,
      "outputs": [
        {
          "output_type": "stream",
          "name": "stdout",
          "text": [
            "Bayesian Gaussian Classifier f1 confidence Level: Mean=0.7225937317609945, Lower/Upper bound=(0.7193758033448324, 0.7258116601771566)\n",
            "Bayesian K-NN Classifier f1 confidence Level: Mean=0.912227733516624, Lower/Upper bound=(0.9101307296158653, 0.9143247374173818)\n",
            "Logistic Regression Classifier f1 confidence Level: Mean=0.8502915175740261, Lower/Upper bound=(0.8477348801888595, 0.8528481549591928)\n",
            "Bayesian Parzen_Window Classifier f1 confidence Level: Mean=0.9047299213263872, Lower/Upper bound=(0.7193758033448324, 0.7258116601771566)\n"
          ]
        }
      ]
    },
    {
      "cell_type": "code",
      "source": [
        "import matplotlib.pyplot as plt\n",
        "import numpy as np\n",
        " \n",
        "fig = plt.figure(figsize =(10, 10))\n",
        " \n",
        "# Creating axes instance\n",
        "ax = fig.add_axes([0, 0, 1, 1])\n",
        " \n",
        "# Creating plot\n",
        "bp_f1_scores = ax.boxplot(f1_scores, labels=[\"Gaussiano Bayesiano\", \"K-NN\", \"Logistic Regression\",\"Janela de Parzen Bayesiano\"],patch_artist=True)\n",
        "plt.title(\"Boxplot f1_scores\")\n",
        "plt.xlabel(\"Modelos\")\n",
        "plt.ylabel(\"f1_scores\")\n",
        "ax.yaxis.grid(True)\n",
        "# show plot\n",
        "plt.show()\n",
        "\n",
        "\n",
        "fig.savefig(fname=\"Boxplot_F1\",  facecolor='w', edgecolor='w',\n",
        "        orientation='portrait', papertype=None, format=None,\n",
        "        transparent=False, bbox_inches=None, pad_inches=0.1,\n",
        "        frameon=None, metadata=None)"
      ],
      "metadata": {
        "colab": {
          "base_uri": "https://localhost:8080/",
          "height": 798
        },
        "id": "FlwrnQFnTgTp",
        "outputId": "284f72dd-ee42-4d35-fdef-a54a76d84d73"
      },
      "execution_count": 407,
      "outputs": [
        {
          "output_type": "display_data",
          "data": {
            "image/png": "[encoded data removed]",
            "text/plain": [
              "<Figure size 720x720 with 1 Axes>"
            ]
          },
          "metadata": {
            "needs_background": "light"
          }
        }
      ]
    },
    {
      "cell_type": "code",
      "source": [
        "stats.friedmanchisquare(bayesian_f1,k_nn_f1,LR_f1,Parzen_Window_f1)"
      ],
      "metadata": {
        "colab": {
          "base_uri": "https://localhost:8080/"
        },
        "id": "8LT2m0g7HyjO",
        "outputId": "5d1d4155-c844-466a-8962-26646a60dd47"
      },
      "execution_count": 364,
      "outputs": [
        {
          "output_type": "execute_result",
          "data": {
            "text/plain": [
              "FriedmanchisquareResult(statistic=814.1443814604874, pvalue=3.7035402034142986e-176)"
            ]
          },
          "metadata": {},
          "execution_count": 364
        }
      ]
    },
    {
      "cell_type": "markdown",
      "source": [
        "# Pós Teste"
      ],
      "metadata": {
        "id": "xad5En2mIiyG"
      }
    },
    {
      "cell_type": "markdown",
      "source": [
        "## Acurácia:"
      ],
      "metadata": {
        "id": "qyxhoWMVImqw"
      }
    },
    {
      "cell_type": "code",
      "execution_count": 365,
      "metadata": {
        "id": "sR48l1BAbkup",
        "colab": {
          "base_uri": "https://localhost:8080/",
          "height": 175
        },
        "outputId": "b8973bb4-70ef-486e-fba2-577611f5da49"
      },
      "outputs": [
        {
          "output_type": "execute_result",
          "data": {
            "text/html": [
              "\n",
              "  <div id=\"df-9a306421-9c80-411f-be17-7626ed2ca16d\">\n",
              "    <div class=\"colab-df-container\">\n",
              "      <div>\n",
              "<style scoped>\n",
              "    .dataframe tbody tr th:only-of-type {\n",
              "        vertical-align: middle;\n",
              "    }\n",
              "\n",
              "    .dataframe tbody tr th {\n",
              "        vertical-align: top;\n",
              "    }\n",
              "\n",
              "    .dataframe thead th {\n",
              "        text-align: right;\n",
              "    }\n",
              "</style>\n",
              "<table border=\"1\" class=\"dataframe\">\n",
              "  <thead>\n",
              "    <tr style=\"text-align: right;\">\n",
              "      <th></th>\n",
              "      <th>0</th>\n",
              "      <th>1</th>\n",
              "      <th>2</th>\n",
              "      <th>3</th>\n",
              "    </tr>\n",
              "  </thead>\n",
              "  <tbody>\n",
              "    <tr>\n",
              "      <th>0</th>\n",
              "      <td>1.000</td>\n",
              "      <td>0.00100</td>\n",
              "      <td>0.001</td>\n",
              "      <td>0.00100</td>\n",
              "    </tr>\n",
              "    <tr>\n",
              "      <th>1</th>\n",
              "      <td>0.001</td>\n",
              "      <td>1.00000</td>\n",
              "      <td>0.001</td>\n",
              "      <td>0.00268</td>\n",
              "    </tr>\n",
              "    <tr>\n",
              "      <th>2</th>\n",
              "      <td>0.001</td>\n",
              "      <td>0.00100</td>\n",
              "      <td>1.000</td>\n",
              "      <td>0.00100</td>\n",
              "    </tr>\n",
              "    <tr>\n",
              "      <th>3</th>\n",
              "      <td>0.001</td>\n",
              "      <td>0.00268</td>\n",
              "      <td>0.001</td>\n",
              "      <td>1.00000</td>\n",
              "    </tr>\n",
              "  </tbody>\n",
              "</table>\n",
              "</div>\n",
              "      <button class=\"colab-df-convert\" onclick=\"convertToInteractive('df-9a306421-9c80-411f-be17-7626ed2ca16d')\"\n",
              "              title=\"Convert this dataframe to an interactive table.\"\n",
              "              style=\"display:none;\">\n",
              "        \n",
              "  <svg xmlns=\"http://www.w3.org/2000/svg\" height=\"24px\"viewBox=\"0 0 24 24\"\n",
              "       width=\"24px\">\n",
              "    <path d=\"M0 0h24v24H0V0z\" fill=\"none\"/>\n",
              "    <path d=\"M18.56 5.44l.94 2.06.94-2.06 2.06-.94-2.06-.94-.94-2.06-.94 2.06-2.06.94zm-11 1L8.5 8.5l.94-2.06 2.06-.94-2.06-.94L8.5 2.5l-.94 2.06-2.06.94zm10 10l.94 2.06.94-2.06 2.06-.94-2.06-.94-.94-2.06-.94 2.06-2.06.94z\"/><path d=\"M17.41 7.96l-1.37-1.37c-.4-.4-.92-.59-1.43-.59-.52 0-1.04.2-1.43.59L10.3 9.45l-7.72 7.72c-.78.78-.78 2.05 0 2.83L4 21.41c.39.39.9.59 1.41.59.51 0 1.02-.2 1.41-.59l7.78-7.78 2.81-2.81c.8-.78.8-2.07 0-2.86zM5.41 20L4 18.59l7.72-7.72 1.47 1.35L5.41 20z\"/>\n",
              "  </svg>\n",
              "      </button>\n",
              "      \n",
              "  <style>\n",
              "    .colab-df-container {\n",
              "      display:flex;\n",
              "      flex-wrap:wrap;\n",
              "      gap: 12px;\n",
              "    }\n",
              "\n",
              "    .colab-df-convert {\n",
              "      background-color: #E8F0FE;\n",
              "      border: none;\n",
              "      border-radius: 50%;\n",
              "      cursor: pointer;\n",
              "      display: none;\n",
              "      fill: #1967D2;\n",
              "      height: 32px;\n",
              "      padding: 0 0 0 0;\n",
              "      width: 32px;\n",
              "    }\n",
              "\n",
              "    .colab-df-convert:hover {\n",
              "      background-color: #E2EBFA;\n",
              "      box-shadow: 0px 1px 2px rgba(60, 64, 67, 0.3), 0px 1px 3px 1px rgba(60, 64, 67, 0.15);\n",
              "      fill: #174EA6;\n",
              "    }\n",
              "\n",
              "    [theme=dark] .colab-df-convert {\n",
              "      background-color: #3B4455;\n",
              "      fill: #D2E3FC;\n",
              "    }\n",
              "\n",
              "    [theme=dark] .colab-df-convert:hover {\n",
              "      background-color: #434B5C;\n",
              "      box-shadow: 0px 1px 3px 1px rgba(0, 0, 0, 0.15);\n",
              "      filter: drop-shadow(0px 1px 2px rgba(0, 0, 0, 0.3));\n",
              "      fill: #FFFFFF;\n",
              "    }\n",
              "  </style>\n",
              "\n",
              "      <script>\n",
              "        const buttonEl =\n",
              "          document.querySelector('#df-9a306421-9c80-411f-be17-7626ed2ca16d button.colab-df-convert');\n",
              "        buttonEl.style.display =\n",
              "          google.colab.kernel.accessAllowed ? 'block' : 'none';\n",
              "\n",
              "        async function convertToInteractive(key) {\n",
              "          const element = document.querySelector('#df-9a306421-9c80-411f-be17-7626ed2ca16d');\n",
              "          const dataTable =\n",
              "            await google.colab.kernel.invokeFunction('convertToInteractive',\n",
              "                                                     [key], {});\n",
              "          if (!dataTable) return;\n",
              "\n",
              "          const docLinkHtml = 'Like what you see? Visit the ' +\n",
              "            '<a target=\"_blank\" href=https://colab.research.google.com/notebooks/data_table.ipynb>data table notebook</a>'\n",
              "            + ' to learn more about interactive tables.';\n",
              "          element.innerHTML = '';\n",
              "          dataTable['output_type'] = 'display_data';\n",
              "          await google.colab.output.renderOutput(dataTable, element);\n",
              "          const docLink = document.createElement('div');\n",
              "          docLink.innerHTML = docLinkHtml;\n",
              "          element.appendChild(docLink);\n",
              "        }\n",
              "      </script>\n",
              "    </div>\n",
              "  </div>\n",
              "  "
            ],
            "text/plain": [
              "       0        1      2        3\n",
              "0  1.000  0.00100  0.001  0.00100\n",
              "1  0.001  1.00000  0.001  0.00268\n",
              "2  0.001  0.00100  1.000  0.00100\n",
              "3  0.001  0.00268  0.001  1.00000"
            ]
          },
          "metadata": {},
          "execution_count": 365
        }
      ],
      "source": [
        "data = np.array([bayesian_accuracy, k_nn_accuracy, LR_accuracy, Parzen_Window_accuracy])\n",
        "sp.posthoc_nemenyi_friedman(data.T)"
      ]
    },
    {
      "cell_type": "markdown",
      "source": [
        "## Precisão:"
      ],
      "metadata": {
        "id": "akz6N4PrIxGQ"
      }
    },
    {
      "cell_type": "code",
      "source": [
        "data = np.array([bayesian_precision, k_nn_precision, LR_precision, Parzen_Window_precision])\n",
        "sp.posthoc_nemenyi_friedman(data.T)"
      ],
      "metadata": {
        "colab": {
          "base_uri": "https://localhost:8080/",
          "height": 175
        },
        "id": "mDxmImJu-eWt",
        "outputId": "ad5383e4-a870-4017-d5fb-a5e307485bca"
      },
      "execution_count": 366,
      "outputs": [
        {
          "output_type": "execute_result",
          "data": {
            "text/html": [
              "\n",
              "  <div id=\"df-4deaaf70-9096-4d0c-86e2-6d0948d4ee47\">\n",
              "    <div class=\"colab-df-container\">\n",
              "      <div>\n",
              "<style scoped>\n",
              "    .dataframe tbody tr th:only-of-type {\n",
              "        vertical-align: middle;\n",
              "    }\n",
              "\n",
              "    .dataframe tbody tr th {\n",
              "        vertical-align: top;\n",
              "    }\n",
              "\n",
              "    .dataframe thead th {\n",
              "        text-align: right;\n",
              "    }\n",
              "</style>\n",
              "<table border=\"1\" class=\"dataframe\">\n",
              "  <thead>\n",
              "    <tr style=\"text-align: right;\">\n",
              "      <th></th>\n",
              "      <th>0</th>\n",
              "      <th>1</th>\n",
              "      <th>2</th>\n",
              "      <th>3</th>\n",
              "    </tr>\n",
              "  </thead>\n",
              "  <tbody>\n",
              "    <tr>\n",
              "      <th>0</th>\n",
              "      <td>1.000</td>\n",
              "      <td>0.00100</td>\n",
              "      <td>0.001</td>\n",
              "      <td>0.00100</td>\n",
              "    </tr>\n",
              "    <tr>\n",
              "      <th>1</th>\n",
              "      <td>0.001</td>\n",
              "      <td>1.00000</td>\n",
              "      <td>0.001</td>\n",
              "      <td>0.00399</td>\n",
              "    </tr>\n",
              "    <tr>\n",
              "      <th>2</th>\n",
              "      <td>0.001</td>\n",
              "      <td>0.00100</td>\n",
              "      <td>1.000</td>\n",
              "      <td>0.00100</td>\n",
              "    </tr>\n",
              "    <tr>\n",
              "      <th>3</th>\n",
              "      <td>0.001</td>\n",
              "      <td>0.00399</td>\n",
              "      <td>0.001</td>\n",
              "      <td>1.00000</td>\n",
              "    </tr>\n",
              "  </tbody>\n",
              "</table>\n",
              "</div>\n",
              "      <button class=\"colab-df-convert\" onclick=\"convertToInteractive('df-4deaaf70-9096-4d0c-86e2-6d0948d4ee47')\"\n",
              "              title=\"Convert this dataframe to an interactive table.\"\n",
              "              style=\"display:none;\">\n",
              "        \n",
              "  <svg xmlns=\"http://www.w3.org/2000/svg\" height=\"24px\"viewBox=\"0 0 24 24\"\n",
              "       width=\"24px\">\n",
              "    <path d=\"M0 0h24v24H0V0z\" fill=\"none\"/>\n",
              "    <path d=\"M18.56 5.44l.94 2.06.94-2.06 2.06-.94-2.06-.94-.94-2.06-.94 2.06-2.06.94zm-11 1L8.5 8.5l.94-2.06 2.06-.94-2.06-.94L8.5 2.5l-.94 2.06-2.06.94zm10 10l.94 2.06.94-2.06 2.06-.94-2.06-.94-.94-2.06-.94 2.06-2.06.94z\"/><path d=\"M17.41 7.96l-1.37-1.37c-.4-.4-.92-.59-1.43-.59-.52 0-1.04.2-1.43.59L10.3 9.45l-7.72 7.72c-.78.78-.78 2.05 0 2.83L4 21.41c.39.39.9.59 1.41.59.51 0 1.02-.2 1.41-.59l7.78-7.78 2.81-2.81c.8-.78.8-2.07 0-2.86zM5.41 20L4 18.59l7.72-7.72 1.47 1.35L5.41 20z\"/>\n",
              "  </svg>\n",
              "      </button>\n",
              "      \n",
              "  <style>\n",
              "    .colab-df-container {\n",
              "      display:flex;\n",
              "      flex-wrap:wrap;\n",
              "      gap: 12px;\n",
              "    }\n",
              "\n",
              "    .colab-df-convert {\n",
              "      background-color: #E8F0FE;\n",
              "      border: none;\n",
              "      border-radius: 50%;\n",
              "      cursor: pointer;\n",
              "      display: none;\n",
              "      fill: #1967D2;\n",
              "      height: 32px;\n",
              "      padding: 0 0 0 0;\n",
              "      width: 32px;\n",
              "    }\n",
              "\n",
              "    .colab-df-convert:hover {\n",
              "      background-color: #E2EBFA;\n",
              "      box-shadow: 0px 1px 2px rgba(60, 64, 67, 0.3), 0px 1px 3px 1px rgba(60, 64, 67, 0.15);\n",
              "      fill: #174EA6;\n",
              "    }\n",
              "\n",
              "    [theme=dark] .colab-df-convert {\n",
              "      background-color: #3B4455;\n",
              "      fill: #D2E3FC;\n",
              "    }\n",
              "\n",
              "    [theme=dark] .colab-df-convert:hover {\n",
              "      background-color: #434B5C;\n",
              "      box-shadow: 0px 1px 3px 1px rgba(0, 0, 0, 0.15);\n",
              "      filter: drop-shadow(0px 1px 2px rgba(0, 0, 0, 0.3));\n",
              "      fill: #FFFFFF;\n",
              "    }\n",
              "  </style>\n",
              "\n",
              "      <script>\n",
              "        const buttonEl =\n",
              "          document.querySelector('#df-4deaaf70-9096-4d0c-86e2-6d0948d4ee47 button.colab-df-convert');\n",
              "        buttonEl.style.display =\n",
              "          google.colab.kernel.accessAllowed ? 'block' : 'none';\n",
              "\n",
              "        async function convertToInteractive(key) {\n",
              "          const element = document.querySelector('#df-4deaaf70-9096-4d0c-86e2-6d0948d4ee47');\n",
              "          const dataTable =\n",
              "            await google.colab.kernel.invokeFunction('convertToInteractive',\n",
              "                                                     [key], {});\n",
              "          if (!dataTable) return;\n",
              "\n",
              "          const docLinkHtml = 'Like what you see? Visit the ' +\n",
              "            '<a target=\"_blank\" href=https://colab.research.google.com/notebooks/data_table.ipynb>data table notebook</a>'\n",
              "            + ' to learn more about interactive tables.';\n",
              "          element.innerHTML = '';\n",
              "          dataTable['output_type'] = 'display_data';\n",
              "          await google.colab.output.renderOutput(dataTable, element);\n",
              "          const docLink = document.createElement('div');\n",
              "          docLink.innerHTML = docLinkHtml;\n",
              "          element.appendChild(docLink);\n",
              "        }\n",
              "      </script>\n",
              "    </div>\n",
              "  </div>\n",
              "  "
            ],
            "text/plain": [
              "       0        1      2        3\n",
              "0  1.000  0.00100  0.001  0.00100\n",
              "1  0.001  1.00000  0.001  0.00399\n",
              "2  0.001  0.00100  1.000  0.00100\n",
              "3  0.001  0.00399  0.001  1.00000"
            ]
          },
          "metadata": {},
          "execution_count": 366
        }
      ]
    },
    {
      "cell_type": "markdown",
      "source": [
        "## Cobertura:"
      ],
      "metadata": {
        "id": "TwN69A6kJAot"
      }
    },
    {
      "cell_type": "code",
      "source": [
        "data = np.array([bayesian_recall, k_nn_recall, LR_recall, Parzen_Window_recall])\n",
        "sp.posthoc_nemenyi_friedman(data.T)"
      ],
      "metadata": {
        "colab": {
          "base_uri": "https://localhost:8080/",
          "height": 175
        },
        "id": "QTlXNkSF-sn1",
        "outputId": "28337839-ce48-4733-b73a-49b561a22e3b"
      },
      "execution_count": 367,
      "outputs": [
        {
          "output_type": "execute_result",
          "data": {
            "text/html": [
              "\n",
              "  <div id=\"df-9a2ff82c-ddbe-4067-b00d-444c253e5d9a\">\n",
              "    <div class=\"colab-df-container\">\n",
              "      <div>\n",
              "<style scoped>\n",
              "    .dataframe tbody tr th:only-of-type {\n",
              "        vertical-align: middle;\n",
              "    }\n",
              "\n",
              "    .dataframe tbody tr th {\n",
              "        vertical-align: top;\n",
              "    }\n",
              "\n",
              "    .dataframe thead th {\n",
              "        text-align: right;\n",
              "    }\n",
              "</style>\n",
              "<table border=\"1\" class=\"dataframe\">\n",
              "  <thead>\n",
              "    <tr style=\"text-align: right;\">\n",
              "      <th></th>\n",
              "      <th>0</th>\n",
              "      <th>1</th>\n",
              "      <th>2</th>\n",
              "      <th>3</th>\n",
              "    </tr>\n",
              "  </thead>\n",
              "  <tbody>\n",
              "    <tr>\n",
              "      <th>0</th>\n",
              "      <td>1.000</td>\n",
              "      <td>0.001000</td>\n",
              "      <td>0.001</td>\n",
              "      <td>0.001000</td>\n",
              "    </tr>\n",
              "    <tr>\n",
              "      <th>1</th>\n",
              "      <td>0.001</td>\n",
              "      <td>1.000000</td>\n",
              "      <td>0.001</td>\n",
              "      <td>0.003771</td>\n",
              "    </tr>\n",
              "    <tr>\n",
              "      <th>2</th>\n",
              "      <td>0.001</td>\n",
              "      <td>0.001000</td>\n",
              "      <td>1.000</td>\n",
              "      <td>0.001000</td>\n",
              "    </tr>\n",
              "    <tr>\n",
              "      <th>3</th>\n",
              "      <td>0.001</td>\n",
              "      <td>0.003771</td>\n",
              "      <td>0.001</td>\n",
              "      <td>1.000000</td>\n",
              "    </tr>\n",
              "  </tbody>\n",
              "</table>\n",
              "</div>\n",
              "      <button class=\"colab-df-convert\" onclick=\"convertToInteractive('df-9a2ff82c-ddbe-4067-b00d-444c253e5d9a')\"\n",
              "              title=\"Convert this dataframe to an interactive table.\"\n",
              "              style=\"display:none;\">\n",
              "        \n",
              "  <svg xmlns=\"http://www.w3.org/2000/svg\" height=\"24px\"viewBox=\"0 0 24 24\"\n",
              "       width=\"24px\">\n",
              "    <path d=\"M0 0h24v24H0V0z\" fill=\"none\"/>\n",
              "    <path d=\"M18.56 5.44l.94 2.06.94-2.06 2.06-.94-2.06-.94-.94-2.06-.94 2.06-2.06.94zm-11 1L8.5 8.5l.94-2.06 2.06-.94-2.06-.94L8.5 2.5l-.94 2.06-2.06.94zm10 10l.94 2.06.94-2.06 2.06-.94-2.06-.94-.94-2.06-.94 2.06-2.06.94z\"/><path d=\"M17.41 7.96l-1.37-1.37c-.4-.4-.92-.59-1.43-.59-.52 0-1.04.2-1.43.59L10.3 9.45l-7.72 7.72c-.78.78-.78 2.05 0 2.83L4 21.41c.39.39.9.59 1.41.59.51 0 1.02-.2 1.41-.59l7.78-7.78 2.81-2.81c.8-.78.8-2.07 0-2.86zM5.41 20L4 18.59l7.72-7.72 1.47 1.35L5.41 20z\"/>\n",
              "  </svg>\n",
              "      </button>\n",
              "      \n",
              "  <style>\n",
              "    .colab-df-container {\n",
              "      display:flex;\n",
              "      flex-wrap:wrap;\n",
              "      gap: 12px;\n",
              "    }\n",
              "\n",
              "    .colab-df-convert {\n",
              "      background-color: #E8F0FE;\n",
              "      border: none;\n",
              "      border-radius: 50%;\n",
              "      cursor: pointer;\n",
              "      display: none;\n",
              "      fill: #1967D2;\n",
              "      height: 32px;\n",
              "      padding: 0 0 0 0;\n",
              "      width: 32px;\n",
              "    }\n",
              "\n",
              "    .colab-df-convert:hover {\n",
              "      background-color: #E2EBFA;\n",
              "      box-shadow: 0px 1px 2px rgba(60, 64, 67, 0.3), 0px 1px 3px 1px rgba(60, 64, 67, 0.15);\n",
              "      fill: #174EA6;\n",
              "    }\n",
              "\n",
              "    [theme=dark] .colab-df-convert {\n",
              "      background-color: #3B4455;\n",
              "      fill: #D2E3FC;\n",
              "    }\n",
              "\n",
              "    [theme=dark] .colab-df-convert:hover {\n",
              "      background-color: #434B5C;\n",
              "      box-shadow: 0px 1px 3px 1px rgba(0, 0, 0, 0.15);\n",
              "      filter: drop-shadow(0px 1px 2px rgba(0, 0, 0, 0.3));\n",
              "      fill: #FFFFFF;\n",
              "    }\n",
              "  </style>\n",
              "\n",
              "      <script>\n",
              "        const buttonEl =\n",
              "          document.querySelector('#df-9a2ff82c-ddbe-4067-b00d-444c253e5d9a button.colab-df-convert');\n",
              "        buttonEl.style.display =\n",
              "          google.colab.kernel.accessAllowed ? 'block' : 'none';\n",
              "\n",
              "        async function convertToInteractive(key) {\n",
              "          const element = document.querySelector('#df-9a2ff82c-ddbe-4067-b00d-444c253e5d9a');\n",
              "          const dataTable =\n",
              "            await google.colab.kernel.invokeFunction('convertToInteractive',\n",
              "                                                     [key], {});\n",
              "          if (!dataTable) return;\n",
              "\n",
              "          const docLinkHtml = 'Like what you see? Visit the ' +\n",
              "            '<a target=\"_blank\" href=https://colab.research.google.com/notebooks/data_table.ipynb>data table notebook</a>'\n",
              "            + ' to learn more about interactive tables.';\n",
              "          element.innerHTML = '';\n",
              "          dataTable['output_type'] = 'display_data';\n",
              "          await google.colab.output.renderOutput(dataTable, element);\n",
              "          const docLink = document.createElement('div');\n",
              "          docLink.innerHTML = docLinkHtml;\n",
              "          element.appendChild(docLink);\n",
              "        }\n",
              "      </script>\n",
              "    </div>\n",
              "  </div>\n",
              "  "
            ],
            "text/plain": [
              "       0         1      2         3\n",
              "0  1.000  0.001000  0.001  0.001000\n",
              "1  0.001  1.000000  0.001  0.003771\n",
              "2  0.001  0.001000  1.000  0.001000\n",
              "3  0.001  0.003771  0.001  1.000000"
            ]
          },
          "metadata": {},
          "execution_count": 367
        }
      ]
    },
    {
      "cell_type": "markdown",
      "source": [
        "## F-Measure"
      ],
      "metadata": {
        "id": "nVjly_arJOng"
      }
    },
    {
      "cell_type": "code",
      "source": [
        "data = np.array([bayesian_f1, k_nn_f1, LR_f1, Parzen_Window_f1])\n",
        "sp.posthoc_nemenyi_friedman(data.T)"
      ],
      "metadata": {
        "colab": {
          "base_uri": "https://localhost:8080/",
          "height": 175
        },
        "id": "HIjRDI-_-yCz",
        "outputId": "949207ef-3df3-4b6c-c2b9-e079e01b471f"
      },
      "execution_count": 368,
      "outputs": [
        {
          "output_type": "execute_result",
          "data": {
            "text/html": [
              "\n",
              "  <div id=\"df-345dbd41-252d-4468-ac82-acd93af1ea25\">\n",
              "    <div class=\"colab-df-container\">\n",
              "      <div>\n",
              "<style scoped>\n",
              "    .dataframe tbody tr th:only-of-type {\n",
              "        vertical-align: middle;\n",
              "    }\n",
              "\n",
              "    .dataframe tbody tr th {\n",
              "        vertical-align: top;\n",
              "    }\n",
              "\n",
              "    .dataframe thead th {\n",
              "        text-align: right;\n",
              "    }\n",
              "</style>\n",
              "<table border=\"1\" class=\"dataframe\">\n",
              "  <thead>\n",
              "    <tr style=\"text-align: right;\">\n",
              "      <th></th>\n",
              "      <th>0</th>\n",
              "      <th>1</th>\n",
              "      <th>2</th>\n",
              "      <th>3</th>\n",
              "    </tr>\n",
              "  </thead>\n",
              "  <tbody>\n",
              "    <tr>\n",
              "      <th>0</th>\n",
              "      <td>1.000</td>\n",
              "      <td>0.001000</td>\n",
              "      <td>0.001</td>\n",
              "      <td>0.001000</td>\n",
              "    </tr>\n",
              "    <tr>\n",
              "      <th>1</th>\n",
              "      <td>0.001</td>\n",
              "      <td>1.000000</td>\n",
              "      <td>0.001</td>\n",
              "      <td>0.004982</td>\n",
              "    </tr>\n",
              "    <tr>\n",
              "      <th>2</th>\n",
              "      <td>0.001</td>\n",
              "      <td>0.001000</td>\n",
              "      <td>1.000</td>\n",
              "      <td>0.001000</td>\n",
              "    </tr>\n",
              "    <tr>\n",
              "      <th>3</th>\n",
              "      <td>0.001</td>\n",
              "      <td>0.004982</td>\n",
              "      <td>0.001</td>\n",
              "      <td>1.000000</td>\n",
              "    </tr>\n",
              "  </tbody>\n",
              "</table>\n",
              "</div>\n",
              "      <button class=\"colab-df-convert\" onclick=\"convertToInteractive('df-345dbd41-252d-4468-ac82-acd93af1ea25')\"\n",
              "              title=\"Convert this dataframe to an interactive table.\"\n",
              "              style=\"display:none;\">\n",
              "        \n",
              "  <svg xmlns=\"http://www.w3.org/2000/svg\" height=\"24px\"viewBox=\"0 0 24 24\"\n",
              "       width=\"24px\">\n",
              "    <path d=\"M0 0h24v24H0V0z\" fill=\"none\"/>\n",
              "    <path d=\"M18.56 5.44l.94 2.06.94-2.06 2.06-.94-2.06-.94-.94-2.06-.94 2.06-2.06.94zm-11 1L8.5 8.5l.94-2.06 2.06-.94-2.06-.94L8.5 2.5l-.94 2.06-2.06.94zm10 10l.94 2.06.94-2.06 2.06-.94-2.06-.94-.94-2.06-.94 2.06-2.06.94z\"/><path d=\"M17.41 7.96l-1.37-1.37c-.4-.4-.92-.59-1.43-.59-.52 0-1.04.2-1.43.59L10.3 9.45l-7.72 7.72c-.78.78-.78 2.05 0 2.83L4 21.41c.39.39.9.59 1.41.59.51 0 1.02-.2 1.41-.59l7.78-7.78 2.81-2.81c.8-.78.8-2.07 0-2.86zM5.41 20L4 18.59l7.72-7.72 1.47 1.35L5.41 20z\"/>\n",
              "  </svg>\n",
              "      </button>\n",
              "      \n",
              "  <style>\n",
              "    .colab-df-container {\n",
              "      display:flex;\n",
              "      flex-wrap:wrap;\n",
              "      gap: 12px;\n",
              "    }\n",
              "\n",
              "    .colab-df-convert {\n",
              "      background-color: #E8F0FE;\n",
              "      border: none;\n",
              "      border-radius: 50%;\n",
              "      cursor: pointer;\n",
              "      display: none;\n",
              "      fill: #1967D2;\n",
              "      height: 32px;\n",
              "      padding: 0 0 0 0;\n",
              "      width: 32px;\n",
              "    }\n",
              "\n",
              "    .colab-df-convert:hover {\n",
              "      background-color: #E2EBFA;\n",
              "      box-shadow: 0px 1px 2px rgba(60, 64, 67, 0.3), 0px 1px 3px 1px rgba(60, 64, 67, 0.15);\n",
              "      fill: #174EA6;\n",
              "    }\n",
              "\n",
              "    [theme=dark] .colab-df-convert {\n",
              "      background-color: #3B4455;\n",
              "      fill: #D2E3FC;\n",
              "    }\n",
              "\n",
              "    [theme=dark] .colab-df-convert:hover {\n",
              "      background-color: #434B5C;\n",
              "      box-shadow: 0px 1px 3px 1px rgba(0, 0, 0, 0.15);\n",
              "      filter: drop-shadow(0px 1px 2px rgba(0, 0, 0, 0.3));\n",
              "      fill: #FFFFFF;\n",
              "    }\n",
              "  </style>\n",
              "\n",
              "      <script>\n",
              "        const buttonEl =\n",
              "          document.querySelector('#df-345dbd41-252d-4468-ac82-acd93af1ea25 button.colab-df-convert');\n",
              "        buttonEl.style.display =\n",
              "          google.colab.kernel.accessAllowed ? 'block' : 'none';\n",
              "\n",
              "        async function convertToInteractive(key) {\n",
              "          const element = document.querySelector('#df-345dbd41-252d-4468-ac82-acd93af1ea25');\n",
              "          const dataTable =\n",
              "            await google.colab.kernel.invokeFunction('convertToInteractive',\n",
              "                                                     [key], {});\n",
              "          if (!dataTable) return;\n",
              "\n",
              "          const docLinkHtml = 'Like what you see? Visit the ' +\n",
              "            '<a target=\"_blank\" href=https://colab.research.google.com/notebooks/data_table.ipynb>data table notebook</a>'\n",
              "            + ' to learn more about interactive tables.';\n",
              "          element.innerHTML = '';\n",
              "          dataTable['output_type'] = 'display_data';\n",
              "          await google.colab.output.renderOutput(dataTable, element);\n",
              "          const docLink = document.createElement('div');\n",
              "          docLink.innerHTML = docLinkHtml;\n",
              "          element.appendChild(docLink);\n",
              "        }\n",
              "      </script>\n",
              "    </div>\n",
              "  </div>\n",
              "  "
            ],
            "text/plain": [
              "       0         1      2         3\n",
              "0  1.000  0.001000  0.001  0.001000\n",
              "1  0.001  1.000000  0.001  0.004982\n",
              "2  0.001  0.001000  1.000  0.001000\n",
              "3  0.001  0.004982  0.001  1.000000"
            ]
          },
          "metadata": {},
          "execution_count": 368
        }
      ]
    },
    {
      "cell_type": "markdown",
      "source": [
        "# Extra: Boxplot geral do projeto"
      ],
      "metadata": {
        "id": "aUqTTW4EJdYL"
      }
    },
    {
      "cell_type": "code",
      "source": [
        "fig, axs = plt.subplots(2, 2,figsize=(15,15))\n",
        "fig = plt.figure(figsize =(10, 7))\n",
        "axs[0, 0].boxplot(accuracies,labels=[\"Bayesiano Gaussiano\", \"K-NN\", \"Regressão Logística\",\"Janela de Parzen\"],patch_artist=True)\n",
        "axs[0, 0].set_title('Acurácias')\n",
        "axs[0, 0].set( ylabel='Acurácias')\n",
        "axs[0, 0].yaxis.grid(True)\n",
        "axs[0, 0]\n",
        "bplot1 = axs[0, 0]\n",
        "axs[0, 1].boxplot(precisions,labels=[\"Bayesiano Gaussiano\", \"K-NN\", \"Regressão Logística\",\"Janela de Parzen\"],patch_artist=True)\n",
        "axs[0, 1].set_title('Precisões')\n",
        "axs[0, 1].set( ylabel='Precisões')\n",
        "axs[0, 1].yaxis.grid(True)\n",
        "bplot2 = axs[0, 1]\n",
        "axs[1, 0].boxplot(recalls,labels=[\"Bayesiano Gaussiano\", \"K-NN\", \"Regressão Logística\",\"Janela de Parzen\"],patch_artist=True)\n",
        "axs[1, 0].set_title('Coberturas')\n",
        "axs[1, 0].set( ylabel='Coberturas')\n",
        "axs[1, 0].yaxis.grid(True)\n",
        "bplot3 = axs[1, 0]\n",
        "axs[1, 1].boxplot(f1_scores,labels=[\"Bayesiano Gaussiano\", \"K-NN\", \"Regressão Logística\",\"Janela de Parzen\"],patch_artist=True)\n",
        "axs[1, 1].set_title('F1_scores')\n",
        "axs[1, 1].set( ylabel='F1_scores')\n",
        "axs[1, 1].yaxis.grid(True)\n",
        "bplot4 = axs[1, 1]\n",
        "\n",
        "fig.savefig(fname=\"Boxplots\",  facecolor='w', edgecolor='w',\n",
        "        orientation='portrait', papertype=None, format=None,\n",
        "        transparent=False, bbox_inches=None, pad_inches=0.1,\n",
        "        frameon=None, metadata=None)\n",
        "\n",
        "#for ax in axs.flat:\n",
        "#    ax.set(xlabel='Modelos')"
      ],
      "metadata": {
        "colab": {
          "base_uri": "https://localhost:8080/",
          "height": 897
        },
        "id": "SWjB49kbBUrf",
        "outputId": "b34b088e-cb82-4b60-ee1f-436fee7874fc"
      },
      "execution_count": 369,
      "outputs": [
        {
          "output_type": "display_data",
          "data": {
            "image/png": "[encoded data removed]",
            "text/plain": [
              "<Figure size 1080x1080 with 4 Axes>"
            ]
          },
          "metadata": {
            "needs_background": "light"
          }
        },
        {
          "output_type": "display_data",
          "data": {
            "text/plain": [
              "<Figure size 720x504 with 0 Axes>"
            ]
          },
          "metadata": {}
        }
      ]
    }
  ],
  "metadata": {
    "colab": {
      "collapsed_sections": [],
      "name": "Projeto-Questão-2.ipynb",
      "provenance": []
    },
    "kernelspec": {
      "display_name": "Python 3",
      "name": "python3"
    },
    "language_info": {
      "name": "python"
    }
  },
  "nbformat": 4,
  "nbformat_minor": 0
}