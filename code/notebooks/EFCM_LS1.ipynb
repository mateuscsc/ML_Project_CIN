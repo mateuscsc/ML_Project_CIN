{
 "cells": [
  {
   "cell_type": "code",
   "execution_count": 17,
   "metadata": {},
   "outputs": [
    {
     "data": {
      "text/html": [
       "<style>.container { width:85% !important; }</style>"
      ],
      "text/plain": [
       "<IPython.core.display.HTML object>"
      ]
     },
     "metadata": {},
     "output_type": "display_data"
    }
   ],
   "source": [
    "from IPython.core.display import display, HTML\n",
    "display(HTML(\"<style>.container { width:85% !important; }</style>\"))\n",
    "import warnings\n",
    "warnings.filterwarnings('ignore')\n",
    "\n",
    "import sys,os\n",
    "sys.path.append('../')\n",
    "from collections import Counter\n",
    "\n",
    "from copy import copy,deepcopy\n",
    "\n",
    "import numpy as np\n",
    "import pandas as pd\n",
    "\n",
    "\n",
    "import seaborn as sns\n",
    "import matplotlib.pyplot as plt\n",
    "%matplotlib inline\n",
    "plt.style.use('bmh')\n",
    "\n",
    "from tqdm import tqdm_notebook as tqdm\n",
    "\n",
    "from sklearn.metrics import confusion_matrix, ConfusionMatrixDisplay\n",
    "\n",
    "from sklearn.preprocessing import StandardScaler,PowerTransformer,MinMaxScaler,RobustScaler\n",
    "from sklearn import preprocessing\n",
    "\n",
    "from efcm.cluster import EFCM_LS1\n",
    "from metrics import FMeasure, MPC, PE\n",
    "from sklearn.metrics import adjusted_rand_score"
   ]
  },
  {
   "cell_type": "markdown",
   "metadata": {},
   "source": [
    "### Load data"
   ]
  },
  {
   "cell_type": "code",
   "execution_count": 18,
   "metadata": {},
   "outputs": [],
   "source": [
    "#### Data test Raw\n",
    "dataset_names =['dataset_01_raw_test','dataset_02_raw_test','dataset_03_raw_test']\n",
    " \n",
    "data_01 = pd.read_csv(os.path.join('../input/', '.'.join([dataset_names[0], 'csv'])))\n",
    "data_02 = pd.read_csv(os.path.join('../input/', '.'.join([dataset_names[1], 'csv'])))\n",
    "data_03 = pd.read_csv(os.path.join('../input/', '.'.join([dataset_names[2], 'csv'])))"
   ]
  },
  {
   "cell_type": "markdown",
   "metadata": {},
   "source": [
    "### View data"
   ]
  },
  {
   "cell_type": "code",
   "execution_count": null,
   "metadata": {},
   "outputs": [],
   "source": [
    "data_01.head()"
   ]
  },
  {
   "cell_type": "code",
   "execution_count": null,
   "metadata": {},
   "outputs": [],
   "source": [
    "data_02.head()"
   ]
  },
  {
   "cell_type": "code",
   "execution_count": null,
   "metadata": {},
   "outputs": [],
   "source": [
    "data_03.head()"
   ]
  },
  {
   "cell_type": "code",
   "execution_count": null,
   "metadata": {},
   "outputs": [],
   "source": [
    "print('Shape',data_01.shape,data_02.shape,data_03.shape)"
   ]
  },
  {
   "cell_type": "code",
   "execution_count": 19,
   "metadata": {},
   "outputs": [],
   "source": [
    "X_data_01 = data_01.drop(columns='Target').values.copy()\n",
    "y_data_01 = data_01.Target.values.copy()\n",
    "X_data_02 = data_02.drop(columns='Target').values.copy()\n",
    "y_data_02 = data_02.Target.values.copy()\n",
    "X_data_03 = data_03.drop(columns='Target').values.copy()\n",
    "y_data_03 = data_03.Target.values.copy()"
   ]
  },
  {
   "cell_type": "code",
   "execution_count": 5,
   "metadata": {},
   "outputs": [],
   "source": [
    "try:\n",
    "    assert y_data_01.all() == y_data_02.all() ==y_data_03.all()\n",
    "    y = y_data_01\n",
    "except:\n",
    "    print('Target invalid')"
   ]
  },
  {
   "cell_type": "markdown",
   "metadata": {},
   "source": [
    "### Parâmetros de T_u e T_V no diretório -- ../run_best_params"
   ]
  },
  {
   "cell_type": "markdown",
   "metadata": {},
   "source": [
    " - Dataset_01 : T_u=0.9  T_v=30.0\n",
    " - Dataset_02 : T_u=1.0  T_v=1000.0\n",
    " - Dataset_03 : T_u=5.0  T_v=10.0"
   ]
  },
  {
   "cell_type": "markdown",
   "metadata": {},
   "source": [
    "### Evaluate"
   ]
  },
  {
   "cell_type": "markdown",
   "metadata": {},
   "source": [
    "#### Dataset 1"
   ]
  },
  {
   "cell_type": "code",
   "execution_count": 98,
   "metadata": {},
   "outputs": [
    {
     "name": "stdout",
     "output_type": "stream",
     "text": [
      "run:0 loss: 20.722397349590736 \n",
      "run:1 loss: 19.771281834277566 \n",
      "run:2 loss: 19.78146675795965 \n",
      "run:3 loss: 19.643767361949987 \n",
      "run:4 loss: 20.58621786514332 \n",
      "run:5 loss: 20.627905669606644 \n",
      "run:6 loss: 19.61080558070035 \n",
      "run:7 loss: 19.626058892726533 \n",
      "run:8 loss: 19.796190355572918 \n",
      "run:9 loss: 19.774283933214313 \n",
      "run:10 loss: 19.791092768334266 \n",
      "run:11 loss: 19.77632093235727 \n",
      "run:12 loss: 20.42023037788028 \n",
      "run:13 loss: 19.77322025329328 \n",
      "run:14 loss: 20.840373738267136 \n",
      "run:15 loss: 19.614131251193584 \n",
      "run:16 loss: 19.781130740399302 \n",
      "run:17 loss: 20.08807083798514 \n",
      "run:18 loss: 19.757702654036308 \n",
      "run:19 loss: 19.790024409935256 \n",
      "run:20 loss: 20.667585244630224 \n",
      "run:21 loss: 20.66407789141805 \n",
      "run:22 loss: 20.850803467512083 \n",
      "run:23 loss: 19.774386144092333 \n",
      "run:24 loss: 19.76383802329878 \n"
     ]
    }
   ],
   "source": [
    "clf1 = EFCM_LS1(n_cluster=7, theta_u=.9, theta_v=30.0, epsilon=1e-10, tol_iter=150, init='dirichlet')\n",
    "u1 = []\n",
    "epoch = 25 # mudar para 50\n",
    "model1 = []\n",
    "_ = [model1.append(deepcopy(clf1)) for _ in range(epoch)]\n",
    "for j in range(epoch):\n",
    "    model1[j].fit(X_data_01)\n",
    "    print('run:{} loss: {} '.format(j,model1[j].loss))\n",
    "    u1.append(model1[j].loss)"
   ]
  },
  {
   "cell_type": "code",
   "execution_count": 99,
   "metadata": {},
   "outputs": [
    {
     "data": {
      "text/plain": [
       "(6, 19.61080558070035)"
      ]
     },
     "execution_count": 99,
     "metadata": {},
     "output_type": "execute_result"
    }
   ],
   "source": [
    "u1 = np.array(u1)\n",
    "np.argmin(u1),u1[np.argmin(u1)]"
   ]
  },
  {
   "cell_type": "code",
   "execution_count": 100,
   "metadata": {},
   "outputs": [],
   "source": [
    "fuzzy1 = model1[np.argmin(u1)].fuzzy_matrix\n",
    "crisp1 = model1[np.argmin(u1)].labels_"
   ]
  },
  {
   "cell_type": "code",
   "execution_count": 132,
   "metadata": {},
   "outputs": [
    {
     "name": "stdout",
     "output_type": "stream",
     "text": [
      "Dataset 1:\n",
      "MPC: 0.1783506661229117\tPE: 1.4203949092730697\n",
      "ARS: 0.05419033216363984\tFM: 0.3143160086347862\n",
      "Counter({0: 1114, 4: 315, 1: 218, 3: 189, 2: 122, 6: 117, 5: 25})\n"
     ]
    }
   ],
   "source": [
    "print(\"Dataset 1:\")\n",
    "print(\"MPC: {}\\tPE: {}\".format(MPC(fuzzy1), PE(fuzzy1)))\n",
    "print(\"ARS: {}\\tFM: {}\".format(adjusted_rand_score(y_data_01, crisp1), FMeasure(y_data_01, crisp1)))\n",
    "print(Counter(crisp1))"
   ]
  },
  {
   "cell_type": "code",
   "execution_count": 137,
   "metadata": {},
   "outputs": [
    {
     "data": {
      "image/png": "[encoded data removed]",
      "text/plain": [
       "<Figure size 432x288 with 2 Axes>"
      ]
     },
     "metadata": {
      "needs_background": "light"
     },
     "output_type": "display_data"
    }
   ],
   "source": [
    "# Features importance\n",
    "ax = sns.heatmap(model1[np.argmin(u1)].fuzzy_weight_matrix.T[0:1])\n",
    "plt.show()"
   ]
  },
  {
   "cell_type": "code",
   "execution_count": 102,
   "metadata": {},
   "outputs": [
    {
     "data": {
      "image/png": "[encoded data removed]",
      "text/plain": [
       "<Figure size 432x288 with 2 Axes>"
      ]
     },
     "metadata": {
      "needs_background": "light"
     },
     "output_type": "display_data"
    }
   ],
   "source": [
    "ax = sns.heatmap(fuzzy1)\n",
    "plt.show()"
   ]
  },
  {
   "cell_type": "code",
   "execution_count": 103,
   "metadata": {},
   "outputs": [
    {
     "data": {
      "text/plain": [
       "array([[4.62411009e-01, 5.37588851e-01, 9.56616732e-08, 2.22044605e-16,\n",
       "        4.40765441e-08, 2.22044605e-16],\n",
       "       [4.62360008e-01, 5.37639883e-01, 6.66269674e-08, 2.22044605e-16,\n",
       "        4.15574079e-08, 2.22044605e-16],\n",
       "       [4.84237056e-01, 5.15532663e-01, 2.26760347e-04, 2.22044605e-16,\n",
       "        3.52112565e-06, 2.22044605e-16],\n",
       "       [4.93585241e-01, 5.06413905e-01, 8.50270790e-07, 2.22044605e-16,\n",
       "        4.00148777e-09, 2.22044605e-16],\n",
       "       [4.69780269e-01, 5.30217878e-01, 1.83021348e-06, 2.22044605e-16,\n",
       "        2.25447461e-08, 2.22044605e-16],\n",
       "       [4.83123074e-01, 5.16591062e-01, 2.81785587e-04, 2.22044605e-16,\n",
       "        4.07893580e-06, 2.22044605e-16],\n",
       "       [4.61709575e-01, 5.38290341e-01, 5.35240301e-08, 2.22044605e-16,\n",
       "        3.01981370e-08, 2.22044605e-16]])"
      ]
     },
     "execution_count": 103,
     "metadata": {},
     "output_type": "execute_result"
    }
   ],
   "source": [
    "model1[np.argmin(u1)].fuzzy_weight_matrix"
   ]
  },
  {
   "cell_type": "code",
   "execution_count": 145,
   "metadata": {},
   "outputs": [
    {
     "data": {
      "image/png": "[encoded data removed]",
      "text/plain": [
       "<Figure size 432x288 with 2 Axes>"
      ]
     },
     "metadata": {
      "needs_background": "light"
     },
     "output_type": "display_data"
    }
   ],
   "source": [
    "# Features importance\n",
    "ax = sns.heatmap(model1[np.argmin(u1)].fuzzy_weight_matrix[6:].T.reshape(1,6))\n",
    "plt.show()"
   ]
  },
  {
   "cell_type": "markdown",
   "metadata": {},
   "source": [
    "#### Dataset 2"
   ]
  },
  {
   "cell_type": "code",
   "execution_count": 105,
   "metadata": {},
   "outputs": [
    {
     "name": "stdout",
     "output_type": "stream",
     "text": [
      "run:0 loss: 2350.2681589154904 \n",
      "run:1 loss: 2440.509213792671 \n",
      "run:2 loss: 2472.9624978941883 \n",
      "run:3 loss: 2511.635951361859 \n",
      "run:4 loss: 2468.369226506689 \n",
      "run:5 loss: 2453.006788503754 \n",
      "run:6 loss: 2444.528688880225 \n",
      "run:7 loss: 2601.5077986283277 \n",
      "run:8 loss: 2319.775136176395 \n",
      "run:9 loss: 2031.312676700416 \n",
      "run:10 loss: 2525.9382320596337 \n",
      "run:11 loss: 2514.082498694533 \n",
      "run:12 loss: 1934.1636934314608 \n",
      "run:13 loss: 2039.8319919544674 \n",
      "run:14 loss: 2472.833143334327 \n",
      "run:15 loss: 2354.0139195798656 \n",
      "run:16 loss: 2504.647245544054 \n",
      "run:17 loss: 2241.9078392682914 \n",
      "run:18 loss: 2018.7555682986722 \n",
      "run:19 loss: 2595.4096110840783 \n",
      "run:20 loss: 2274.089586934749 \n",
      "run:21 loss: 2440.6458953855868 \n",
      "run:22 loss: 2167.697040593805 \n",
      "run:23 loss: 2406.519783720799 \n",
      "run:24 loss: 2455.403506467522 \n"
     ]
    }
   ],
   "source": [
    "clf2 = EFCM_LS1(n_cluster=7,theta_u=1.0 ,theta_v=1000.0,epsilon=1e-10,tol_iter=150,init='dirichlet')\n",
    "u2 = []\n",
    "epoch = 25 # mudar para 50\n",
    "model2 = []\n",
    "_ = [model2.append(deepcopy(clf2)) for _ in range(epoch)]\n",
    "for j in range(epoch):\n",
    "    model2[j].fit(X_data_02)\n",
    "    print('run:{} loss: {} '.format(j,model2[j].loss))\n",
    "    u2.append(model2[j].loss)"
   ]
  },
  {
   "cell_type": "code",
   "execution_count": 106,
   "metadata": {},
   "outputs": [],
   "source": [
    "fuzzy2 = model2[np.argmin(u2)].fuzzy_matrix\n",
    "crisp2 = model2[np.argmin(u2)].labels_"
   ]
  },
  {
   "cell_type": "code",
   "execution_count": 108,
   "metadata": {},
   "outputs": [
    {
     "name": "stdout",
     "output_type": "stream",
     "text": [
      "Dataset 2:\n",
      "MPC: 0.06491066587792699\tPE: 1.8169826346286733\n",
      "ARS: 0.007141284281009204\tFM: 0.2521134965614153\n",
      "Counter({0: 1893, 5: 50, 6: 48, 1: 38, 3: 35, 4: 29, 2: 7})\n"
     ]
    }
   ],
   "source": [
    "print(\"Dataset 2:\")\n",
    "print(\"MPC: {}\\tPE: {}\".format(MPC(fuzzy2), PE(fuzzy2)))\n",
    "print(\"ARS: {}\\tFM: {}\".format(adjusted_rand_score(y_data_02, crisp2), FMeasure(y_data_02, crisp2)))\n",
    "print(Counter(crisp2))"
   ]
  },
  {
   "cell_type": "code",
   "execution_count": 146,
   "metadata": {},
   "outputs": [
    {
     "data": {
      "image/png": "[encoded data removed]",
      "text/plain": [
       "<Figure size 432x288 with 2 Axes>"
      ]
     },
     "metadata": {
      "needs_background": "light"
     },
     "output_type": "display_data"
    }
   ],
   "source": [
    "ax = sns.heatmap(fuzzy2)\n",
    "plt.show()"
   ]
  },
  {
   "cell_type": "code",
   "execution_count": 110,
   "metadata": {},
   "outputs": [
    {
     "data": {
      "text/plain": [
       "array([[1.70543361e-04, 3.14343279e-04, 2.95994615e-05, 2.60220890e-04,\n",
       "        4.08151850e-02, 3.99333161e-03, 3.28430287e-02, 3.87305037e-05,\n",
       "        5.07453057e-01, 4.14081961e-01],\n",
       "       [1.70388394e-04, 3.27337335e-04, 3.12721535e-05, 2.68604453e-04,\n",
       "        4.10447968e-02, 4.08500025e-03, 3.43317415e-02, 4.04498808e-05,\n",
       "        5.06330635e-01, 4.13369775e-01],\n",
       "       [1.73635158e-04, 2.69692011e-04, 2.46173265e-05, 2.25655604e-04,\n",
       "        3.89820032e-02, 3.86534045e-03, 3.01335044e-02, 3.20748515e-05,\n",
       "        5.10372472e-01, 4.15921005e-01],\n",
       "       [1.43537403e-04, 2.51439108e-04, 2.43736126e-05, 2.42769115e-04,\n",
       "        3.94194003e-02, 3.76634933e-03, 3.16572721e-02, 3.11255122e-05,\n",
       "        5.09173544e-01, 4.15290189e-01],\n",
       "       [1.56699079e-04, 2.90570443e-04, 2.83892260e-05, 2.64619387e-04,\n",
       "        4.07987656e-02, 4.02609449e-03, 3.49913386e-02, 3.71050206e-05,\n",
       "        5.06186892e-01, 4.13219526e-01],\n",
       "       [3.54645859e-06, 1.13020537e-05, 4.76377006e-07, 1.09822256e-05,\n",
       "        2.64214951e-02, 1.51440201e-03, 1.40683029e-02, 5.76090906e-07,\n",
       "        5.31807667e-01, 4.26161249e-01],\n",
       "       [3.38905881e-05, 8.73684594e-05, 6.33683313e-06, 9.65488601e-05,\n",
       "        2.43575013e-02, 2.76383146e-03, 1.57662255e-02, 7.76580412e-06,\n",
       "        5.27842804e-01, 4.29037727e-01]])"
      ]
     },
     "execution_count": 110,
     "metadata": {},
     "output_type": "execute_result"
    }
   ],
   "source": [
    "model2[np.argmin(u2)].fuzzy_weight_matrix"
   ]
  },
  {
   "cell_type": "code",
   "execution_count": 166,
   "metadata": {},
   "outputs": [
    {
     "data": {
      "image/png": "[encoded data removed]",
      "text/plain": [
       "<Figure size 432x288 with 2 Axes>"
      ]
     },
     "metadata": {
      "needs_background": "light"
     },
     "output_type": "display_data"
    }
   ],
   "source": [
    "# Features importance\n",
    "ax = sns.heatmap(model2[np.argmin(u2)].fuzzy_weight_matrix.T[1:2])\n",
    "plt.show()"
   ]
  },
  {
   "cell_type": "markdown",
   "metadata": {},
   "source": [
    "#### Dataset 3"
   ]
  },
  {
   "cell_type": "code",
   "execution_count": 168,
   "metadata": {},
   "outputs": [
    {
     "name": "stdout",
     "output_type": "stream",
     "text": [
      "run:0 loss: 358.6737904722059 \n",
      "run:1 loss: 357.2774929379744 \n",
      "run:2 loss: 358.6905525940634 \n"
     ]
    }
   ],
   "source": [
    "clf3 = EFCM_LS1(n_cluster=7,theta_u=3.0 ,theta_v=10.0,epsilon=1e-10,tol_iter=150,init='dirichlet')\n",
    "u3 = []\n",
    "epoch = 3 # mudar para 50\n",
    "model3 = []\n",
    "_ = [model3.append(deepcopy(clf3)) for _ in range(epoch)]\n",
    "for j in range(epoch):\n",
    "    model3[j].fit(X_data_02)\n",
    "    print('run:{} loss: {} '.format(j,model3[j].loss))\n",
    "    u3.append(model3[j].loss)"
   ]
  },
  {
   "cell_type": "code",
   "execution_count": 169,
   "metadata": {},
   "outputs": [],
   "source": [
    "fuzzy3 = model3[np.argmin(u3)].fuzzy_matrix\n",
    "crisp3 = model3[np.argmin(u3)].labels_"
   ]
  },
  {
   "cell_type": "code",
   "execution_count": 170,
   "metadata": {},
   "outputs": [
    {
     "name": "stdout",
     "output_type": "stream",
     "text": [
      "Dataset 3:\n",
      "MPC: 0.4940124210459478\tPE: 0.9607257427064955\n",
      "ARS: 0.22949278618427146\tFM: 0.42223480495833815\n",
      "Counter({4: 1190, 0: 909, 1: 1})\n"
     ]
    }
   ],
   "source": [
    "print(\"Dataset 3:\")\n",
    "print(\"MPC: {}\\tPE: {}\".format(MPC(fuzzy3), PE(fuzzy3)))\n",
    "print(\"ARS: {}\\tFM: {}\".format(adjusted_rand_score(y_data_03, crisp3), FMeasure(y_data_03, crisp3)))\n",
    "print(Counter(crisp3))"
   ]
  },
  {
   "cell_type": "code",
   "execution_count": null,
   "metadata": {},
   "outputs": [
    {
     "data": {
      "image/png": "[encoded data removed]",
      "text/plain": [
       "<Figure size 432x288 with 2 Axes>"
      ]
     },
     "metadata": {},
     "output_type": "display_data"
    }
   ],
   "source": [
    "ax = sns.heatmap(fuzzy3)\n",
    "plt.show()"
   ]
  },
  {
   "cell_type": "code",
   "execution_count": null,
   "metadata": {},
   "outputs": [
    {
     "data": {
      "text/plain": [
       "array([[4.78348402e-01, 5.21633465e-01, 1.80408279e-05, 2.22044605e-16,\n",
       "        9.22035528e-08, 2.22044605e-16],\n",
       "       [4.71451872e-01, 5.28545448e-01, 2.18907270e-06, 2.22044605e-16,\n",
       "        4.90847190e-07, 2.22044605e-16],\n",
       "       [4.78532806e-01, 5.21450527e-01, 1.65684575e-05, 2.22044605e-16,\n",
       "        9.81630412e-08, 2.22044605e-16],\n",
       "       [4.70459364e-01, 5.29539511e-01, 9.08006366e-07, 2.22044605e-16,\n",
       "        2.16673602e-07, 2.22044605e-16],\n",
       "       [4.71451872e-01, 5.28545448e-01, 2.18907270e-06, 2.22044605e-16,\n",
       "        4.90847190e-07, 2.22044605e-16],\n",
       "       [4.77956198e-01, 5.22021940e-01, 2.18175795e-05, 2.22044605e-16,\n",
       "        4.47389762e-08, 2.22044605e-16],\n",
       "       [4.70459364e-01, 5.29539511e-01, 9.08006366e-07, 2.22044605e-16,\n",
       "        2.16673602e-07, 2.22044605e-16]])"
      ]
     },
     "metadata": {},
     "output_type": "display_data"
    }
   ],
   "source": [
    "model3[np.argmin(u3)].fuzzy_weight_matrix"
   ]
  },
  {
   "cell_type": "code",
   "execution_count": null,
   "metadata": {},
   "outputs": [
    {
     "data": {
      "image/png": "[encoded data removed]",
      "text/plain": [
       "<Figure size 432x288 with 2 Axes>"
      ]
     },
     "metadata": {},
     "output_type": "display_data"
    }
   ],
   "source": [
    "# Features importance\n",
    "ax = sns.heatmap(model3[np.argmin(u3)].fuzzy_weight_matrix.T[4:5])\n",
    "plt.show()"
   ]
  }
 ],
 "metadata": {
  "interpreter": {
   "hash": "266334e424d88184042804645b05b144a44c076c18798a1d43c9ebc1164a6b77"
  },
  "kernelspec": {
   "display_name": "pycode37",
   "language": "python",
   "name": "python3"
  },
  "language_info": {
   "codemirror_mode": {
    "name": "ipython",
    "version": 3
   },
   "file_extension": ".py",
   "mimetype": "text/x-python",
   "name": "python",
   "nbconvert_exporter": "python",
   "pygments_lexer": "ipython3",
   "version": "3.9.5"
  }
 },
 "nbformat": 4,
 "nbformat_minor": 4
}
