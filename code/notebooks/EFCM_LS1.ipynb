{
 "cells": [
  {
   "cell_type": "code",
   "execution_count": 2,
   "metadata": {},
   "outputs": [
    {
     "data": {
      "text/html": [
       "<style>.container { width:85% !important; }</style>"
      ],
      "text/plain": [
       "<IPython.core.display.HTML object>"
      ]
     },
     "metadata": {},
     "output_type": "display_data"
    }
   ],
   "source": [
    "from IPython.core.display import display, HTML\n",
    "display(HTML(\"<style>.container { width:85% !important; }</style>\"))\n",
    "import warnings\n",
    "warnings.filterwarnings('ignore')\n",
    "\n",
    "import sys,os\n",
    "sys.path.append('../')\n",
    "from collections import Counter\n",
    "\n",
    "from copy import copy,deepcopy\n",
    "\n",
    "import numpy as np\n",
    "import pandas as pd\n",
    "\n",
    "\n",
    "import seaborn as sns\n",
    "import matplotlib.pyplot as plt\n",
    "%matplotlib inline\n",
    "plt.style.use('bmh')\n",
    "\n",
    "from tqdm import tqdm_notebook as tqdm\n",
    "\n",
    "from sklearn.metrics import confusion_matrix, ConfusionMatrixDisplay\n",
    "\n",
    "from sklearn.preprocessing import StandardScaler,PowerTransformer,MinMaxScaler,RobustScaler\n",
    "from sklearn import preprocessing\n",
    "\n",
    "from efcm.cluster import EFCM_LS1"
   ]
  },
  {
   "cell_type": "markdown",
   "metadata": {},
   "source": [
    "### Load data"
   ]
  },
  {
   "cell_type": "code",
   "execution_count": null,
   "metadata": {},
   "outputs": [],
   "source": [
    "### Data merge scaled\n",
    "#dataset_names = ['dataset_01_scaled', 'dataset_02_scaled', 'dataset_03_scaled']\n",
    "#data_01 = pd.read_csv(os.path.join('../input/', '.'.join([dataset_names[0], 'csv'])))\n",
    "#data_02 = pd.read_csv(os.path.join('../input/', '.'.join([dataset_names[1], 'csv'])))\n",
    "#data_03 = pd.read_csv(os.path.join('../input/', '.'.join([dataset_names[2], 'csv'])))"
   ]
  },
  {
   "cell_type": "code",
   "execution_count": null,
   "metadata": {},
   "outputs": [],
   "source": [
    "## Data test scaled\n",
    "#dataset_names = ['dataset_01_scaled_test','dataset_02_scaled_test','dataset_03_scaled_test']\n",
    "#data_01 = pd.read_csv(os.path.join('../input/', '.'.join([dataset_names[0], 'csv'])))\n",
    "#data_02 = pd.read_csv(os.path.join('../input/', '.'.join([dataset_names[1], 'csv'])))\n",
    "#data_03 = pd.read_csv(os.path.join('../input/', '.'.join([dataset_names[2], 'csv'])))"
   ]
  },
  {
   "cell_type": "code",
   "execution_count": 3,
   "metadata": {},
   "outputs": [],
   "source": [
    "#### Data test Raw\n",
    "dataset_names =['dataset_01_raw_test','dataset_02_raw_test','dataset_03_raw_test']\n",
    " \n",
    "data_01 = pd.read_csv(os.path.join('../input/', '.'.join([dataset_names[0], 'csv'])))\n",
    "data_02 = pd.read_csv(os.path.join('../input/', '.'.join([dataset_names[1], 'csv'])))\n",
    "data_03 = pd.read_csv(os.path.join('../input/', '.'.join([dataset_names[2], 'csv'])))"
   ]
  },
  {
   "cell_type": "code",
   "execution_count": null,
   "metadata": {},
   "outputs": [],
   "source": [
    "### Data test Raw not sorted\n",
    "#dataset_names =['dataset_01_raw_test_notsort','dataset_02_raw_test_notsort','dataset_03_raw_test_notsort']\n",
    "# \n",
    "#data_01 = pd.read_csv(os.path.join('../input/', '.'.join([dataset_names[0], 'csv'])))\n",
    "#data_02 = pd.read_csv(os.path.join('../input/', '.'.join([dataset_names[1], 'csv'])))\n",
    "#data_03 = pd.read_csv(os.path.join('../input/', '.'.join([dataset_names[2], 'csv'])))"
   ]
  },
  {
   "cell_type": "code",
   "execution_count": null,
   "metadata": {},
   "outputs": [],
   "source": []
  },
  {
   "cell_type": "code",
   "execution_count": null,
   "metadata": {},
   "outputs": [],
   "source": [
    "### Data merge Raw\n",
    "#dataset_names = ['dataset_01_raw_merge','dataset_02_raw_merge','dataset_03_raw_merge']\n",
    "#data_01 = pd.read_csv(os.path.join('../input/', '.'.join([dataset_names[0], 'csv'])))\n",
    "#data_02 = pd.read_csv(os.path.join('../input/', '.'.join([dataset_names[1], 'csv'])))\n",
    "#data_03 = pd.read_csv(os.path.join('../input/', '.'.join([dataset_names[2], 'csv'])))"
   ]
  },
  {
   "cell_type": "markdown",
   "metadata": {},
   "source": [
    "### View data"
   ]
  },
  {
   "cell_type": "code",
   "execution_count": null,
   "metadata": {},
   "outputs": [],
   "source": [
    "data_01.head()"
   ]
  },
  {
   "cell_type": "code",
   "execution_count": null,
   "metadata": {},
   "outputs": [],
   "source": [
    "data_02.head()"
   ]
  },
  {
   "cell_type": "code",
   "execution_count": null,
   "metadata": {},
   "outputs": [],
   "source": [
    "data_03.head()"
   ]
  },
  {
   "cell_type": "code",
   "execution_count": null,
   "metadata": {},
   "outputs": [],
   "source": [
    "print('Shape',data_01.shape,data_02.shape,data_03.shape)"
   ]
  },
  {
   "cell_type": "code",
   "execution_count": 4,
   "metadata": {},
   "outputs": [],
   "source": [
    "X_data_01 = data_01.drop(columns='Target').values.copy()\n",
    "y_data_01 = data_01.Target.values.copy()\n",
    "X_data_02 = data_02.drop(columns='Target').values.copy()\n",
    "y_data_02 = data_02.Target.values.copy()\n",
    "X_data_03 = data_03.drop(columns='Target').values.copy()\n",
    "y_data_03 = data_03.Target.values.copy()"
   ]
  },
  {
   "cell_type": "code",
   "execution_count": 5,
   "metadata": {},
   "outputs": [],
   "source": [
    "try:\n",
    "    assert y_data_01.all() == y_data_02.all() ==y_data_03.all()\n",
    "    y = y_data_01\n",
    "except:\n",
    "    print('Target invalid')"
   ]
  },
  {
   "cell_type": "markdown",
   "metadata": {},
   "source": [
    "### Parâmetros de T_u e T_V no diretório -- ../run_best_params"
   ]
  },
  {
   "cell_type": "markdown",
   "metadata": {},
   "source": [
    " - Dataset_01 : T_u=0.9  T_v=30.0\n",
    " - Dataset_02 : T_u=1.0  T_v=1000.0\n",
    " - Dataset_03 : T_u=5.0  T_v=10.0"
   ]
  },
  {
   "cell_type": "markdown",
   "metadata": {},
   "source": [
    "### Evaluate"
   ]
  },
  {
   "cell_type": "code",
   "execution_count": 26,
   "metadata": {},
   "outputs": [
    {
     "name": "stdout",
     "output_type": "stream",
     "text": [
      "run:0 loss: 19.891928254285688 \n",
      "run:1 loss: 19.89767962134102 \n",
      "run:2 loss: 19.7976709080398 \n"
     ]
    }
   ],
   "source": [
    "clf = EFCM_LS1(n_cluster=7,theta_u=.9 ,theta_v=30,epsilon=1e-10,tol_iter=150,init='dirichlet')\n",
    "u = []\n",
    "epoch = 3 # mudar para 50\n",
    "model = []\n",
    "_ = [model.append(deepcopy(clf)) for _ in range(epoch)]\n",
    "for j in range(epoch):\n",
    "    model[j].fit(X_data_01) # X_data_01,X_data_02,X_data_03\n",
    "    print('run:{} loss: {} '.format(j,model[j].loss))\n",
    "    u.append(model[j].loss)"
   ]
  },
  {
   "cell_type": "code",
   "execution_count": 18,
   "metadata": {},
   "outputs": [
    {
     "data": {
      "text/plain": [
       "(2, 2289.77789605491)"
      ]
     },
     "execution_count": 18,
     "metadata": {},
     "output_type": "execute_result"
    }
   ],
   "source": [
    "u = np.array(u)\n",
    "np.argmin(u),u[np.argmin(u)]"
   ]
  },
  {
   "cell_type": "markdown",
   "metadata": {},
   "source": [
    "### Partition Fuzzy Matrix"
   ]
  },
  {
   "cell_type": "code",
   "execution_count": 31,
   "metadata": {},
   "outputs": [
    {
     "data": {
      "text/plain": [
       "array([0.24472228, 0.08146731, 0.06899403, 0.27312644, 0.06927027,\n",
       "       0.18366668, 0.07875299])"
      ]
     },
     "execution_count": 31,
     "metadata": {},
     "output_type": "execute_result"
    }
   ],
   "source": [
    "model[np.argmin(u)].fuzzy_matrix[1000]"
   ]
  },
  {
   "cell_type": "code",
   "execution_count": 33,
   "metadata": {},
   "outputs": [
    {
     "data": {
      "image/png": "[encoded data removed]",
      "text/plain": [
       "<Figure size 432x288 with 2 Axes>"
      ]
     },
     "metadata": {
      "needs_background": "light"
     },
     "output_type": "display_data"
    }
   ],
   "source": [
    "ax = sns.heatmap(model[np.argmin(u)].fuzzy_matrix)\n",
    "plt.show()"
   ]
  },
  {
   "cell_type": "markdown",
   "metadata": {},
   "source": [
    "### Matrix V"
   ]
  },
  {
   "cell_type": "code",
   "execution_count": 24,
   "metadata": {},
   "outputs": [
    {
     "data": {
      "text/plain": [
       "array([[3.25328547e-16, 3.25328547e-16, 3.25328547e-16, 3.25328547e-16,\n",
       "        7.19951385e-12, 3.25328547e-16, 4.16755801e-12, 3.25328547e-16,\n",
       "        8.85459487e-01, 1.14540513e-01],\n",
       "       [3.25244045e-16, 3.25244045e-16, 3.25244045e-16, 3.25244045e-16,\n",
       "        6.42847537e-12, 3.25244045e-16, 2.82401347e-12, 3.25244045e-16,\n",
       "        8.85758181e-01, 1.14241819e-01],\n",
       "       [3.29885784e-16, 3.29885784e-16, 3.29885784e-16, 3.29885784e-16,\n",
       "        1.65698283e-12, 3.29885784e-16, 4.21753785e-13, 3.29885784e-16,\n",
       "        8.91674459e-01, 1.08325541e-01],\n",
       "       [3.24796525e-16, 3.24796525e-16, 3.24796525e-16, 3.24796525e-16,\n",
       "        7.04384070e-12, 3.24796525e-16, 3.88940148e-12, 3.24796525e-16,\n",
       "        8.85531263e-01, 1.14468737e-01],\n",
       "       [3.32131033e-16, 3.32131033e-16, 3.32131033e-16, 3.32131033e-16,\n",
       "        2.94217236e-12, 3.32131033e-16, 6.01386865e-13, 3.32131033e-16,\n",
       "        8.86266052e-01, 1.13733948e-01],\n",
       "       [3.40922229e-16, 3.40922229e-16, 3.40922229e-16, 3.40922229e-16,\n",
       "        5.87762630e-13, 3.40922229e-16, 1.85683802e-14, 3.40922229e-16,\n",
       "        8.84875587e-01, 1.15124413e-01],\n",
       "       [3.28328297e-16, 3.28328297e-16, 3.28328297e-16, 3.28328297e-16,\n",
       "        4.12222903e-12, 3.28328297e-16, 1.27941535e-12, 3.28328297e-16,\n",
       "        8.87850819e-01, 1.12149181e-01]])"
      ]
     },
     "execution_count": 24,
     "metadata": {},
     "output_type": "execute_result"
    }
   ],
   "source": [
    "model[np.argmin(u)].fuzzy_weight_matrix"
   ]
  },
  {
   "cell_type": "markdown",
   "metadata": {},
   "source": [
    "### Features importance"
   ]
  },
  {
   "cell_type": "code",
   "execution_count": 39,
   "metadata": {},
   "outputs": [
    {
     "data": {
      "image/png": "[encoded data removed]",
      "text/plain": [
       "<Figure size 432x288 with 2 Axes>"
      ]
     },
     "metadata": {
      "needs_background": "light"
     },
     "output_type": "display_data"
    }
   ],
   "source": [
    "ax = sns.heatmap(model[np.argmin(u)].fuzzy_weight_matrix.T[4:5])\n",
    "plt.show()"
   ]
  },
  {
   "cell_type": "markdown",
   "metadata": {},
   "source": [
    "### Labels"
   ]
  },
  {
   "cell_type": "code",
   "execution_count": null,
   "metadata": {},
   "outputs": [],
   "source": [
    "model[np.argmin(u)].labels_"
   ]
  },
  {
   "cell_type": "code",
   "execution_count": 29,
   "metadata": {},
   "outputs": [
    {
     "data": {
      "text/plain": [
       "Counter({6: 166, 2: 997, 5: 403, 4: 61, 1: 81, 3: 92, 0: 300})"
      ]
     },
     "execution_count": 29,
     "metadata": {},
     "output_type": "execute_result"
    }
   ],
   "source": [
    "Counter(model[np.argmin(u)].labels_)"
   ]
  },
  {
   "cell_type": "markdown",
   "metadata": {},
   "source": [
    "### Loss History"
   ]
  },
  {
   "cell_type": "code",
   "execution_count": null,
   "metadata": {},
   "outputs": [],
   "source": [
    "# plot\n",
    "plt.plot(model[np.argmin(u)].loss_history)"
   ]
  },
  {
   "cell_type": "code",
   "execution_count": null,
   "metadata": {},
   "outputs": [],
   "source": []
  }
 ],
 "metadata": {
  "kernelspec": {
   "display_name": "pycode37",
   "language": "python",
   "name": "pycode37"
  },
  "language_info": {
   "codemirror_mode": {
    "name": "ipython",
    "version": 3
   },
   "file_extension": ".py",
   "mimetype": "text/x-python",
   "name": "python",
   "nbconvert_exporter": "python",
   "pygments_lexer": "ipython3",
   "version": "3.7.9"
  }
 },
 "nbformat": 4,
 "nbformat_minor": 4
}
