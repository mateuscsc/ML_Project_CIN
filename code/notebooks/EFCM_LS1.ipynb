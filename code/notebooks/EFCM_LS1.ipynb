{
 "cells": [
  {
   "cell_type": "code",
   "execution_count": null,
   "metadata": {},
   "outputs": [],
   "source": [
    "from IPython.core.display import display, HTML\n",
    "display(HTML(\"<style>.container { width:85% !important; }</style>\"))\n",
    "import warnings\n",
    "warnings.filterwarnings('ignore')\n",
    "\n",
    "import sys,os\n",
    "sys.path.append('../')\n",
    "from collections import Counter\n",
    "\n",
    "from copy import copy,deepcopy\n",
    "\n",
    "import numpy as np\n",
    "import pandas as pd\n",
    "\n",
    "\n",
    "import seaborn as sns\n",
    "import matplotlib.pyplot as plt\n",
    "%matplotlib inline\n",
    "plt.style.use('bmh')\n",
    "\n",
    "from tqdm import tqdm_notebook as tqdm\n",
    "\n",
    "from sklearn.metrics import confusion_matrix, ConfusionMatrixDisplay\n",
    "\n",
    "from sklearn.preprocessing import StandardScaler,PowerTransformer,MinMaxScaler,RobustScaler\n",
    "from sklearn import preprocessing\n",
    "\n",
    "from efcm.cluster import EFCM_LS1"
   ]
  },
  {
   "cell_type": "markdown",
   "metadata": {},
   "source": [
    "### Load data"
   ]
  },
  {
   "cell_type": "code",
   "execution_count": null,
   "metadata": {},
   "outputs": [],
   "source": [
    "dataset_names = ['dataset_01_scaled', 'dataset_02_scaled', 'dataset_03_scaled']\n",
    "data_01 = pd.read_csv(os.path.join('../input/', '.'.join([dataset_names[0], 'csv'])))\n",
    "data_02 = pd.read_csv(os.path.join('../input/', '.'.join([dataset_names[1], 'csv'])))\n",
    "data_03 = pd.read_csv(os.path.join('../input/', '.'.join([dataset_names[2], 'csv'])))"
   ]
  },
  {
   "cell_type": "markdown",
   "metadata": {},
   "source": [
    "### View data"
   ]
  },
  {
   "cell_type": "code",
   "execution_count": null,
   "metadata": {},
   "outputs": [],
   "source": [
    "data_01.head()"
   ]
  },
  {
   "cell_type": "code",
   "execution_count": null,
   "metadata": {},
   "outputs": [],
   "source": [
    "data_02.head()"
   ]
  },
  {
   "cell_type": "code",
   "execution_count": null,
   "metadata": {},
   "outputs": [],
   "source": [
    "data_03.head()"
   ]
  },
  {
   "cell_type": "code",
   "execution_count": null,
   "metadata": {},
   "outputs": [],
   "source": [
    "print('Shape',data_01.shape,data_02.shape,data_03.shape)"
   ]
  },
  {
   "cell_type": "code",
   "execution_count": null,
   "metadata": {},
   "outputs": [],
   "source": [
    "X_data_01 = data_01.drop(columns='Target').values.copy()\n",
    "y_data_01 = data_01.Target.values.copy()\n",
    "X_data_02 = data_02.drop(columns='Target').values.copy()\n",
    "y_data_02 = data_02.Target.values.copy()\n",
    "X_data_03 = data_03.drop(columns='Target').values.copy()\n",
    "y_data_03 = data_03.Target.values.copy()"
   ]
  },
  {
   "cell_type": "code",
   "execution_count": null,
   "metadata": {},
   "outputs": [],
   "source": [
    "try:\n",
    "    assert y_data_01.all() == y_data_02.all() ==y_data_03.all()\n",
    "    y = y_data_01\n",
    "except:\n",
    "    print('Target invalid')"
   ]
  },
  {
   "cell_type": "markdown",
   "metadata": {},
   "source": [
    "### Parâmetros de T_u e T_V no diretório -- ../run_best_params"
   ]
  },
  {
   "cell_type": "markdown",
   "metadata": {},
   "source": [
    " - Dataset_01 : T_u=0.43  T_v=10.0\n",
    " - Dataset_02 : T_u=2.55  T_v=10.0\n",
    " - Dataset_03 : T_u=0.05  T_v=10.0"
   ]
  },
  {
   "cell_type": "markdown",
   "metadata": {},
   "source": [
    "### Evaluate"
   ]
  },
  {
   "cell_type": "code",
   "execution_count": null,
   "metadata": {},
   "outputs": [],
   "source": [
    "clf = EFCM_LS1(n_cluster=7,theta_u=.43 ,theta_v=10,epsilon=1e-10,tol_iter=150,init='laplace')\n",
    "u = []\n",
    "epoch = 1 # mudar para 50\n",
    "model = []\n",
    "_ = [model.append(deepcopy(clf)) for _ in range(epoch)]\n",
    "for j in range(epoch):\n",
    "    model[j].fit(X_data_01) # X_data_01,X_data_02,X_data_03\n",
    "    print('run:{} loss: {} '.format(j,model[j].loss))\n",
    "    u.append(model[j].loss)"
   ]
  },
  {
   "cell_type": "code",
   "execution_count": null,
   "metadata": {},
   "outputs": [],
   "source": [
    "u = np.array(u)\n",
    "np.argmin(u),u[np.argmin(u)]"
   ]
  },
  {
   "cell_type": "markdown",
   "metadata": {},
   "source": [
    "### Partition Fuzzy Matrix"
   ]
  },
  {
   "cell_type": "code",
   "execution_count": null,
   "metadata": {},
   "outputs": [],
   "source": [
    "model[np.argmin(u)].fuzzy_matrix"
   ]
  },
  {
   "cell_type": "markdown",
   "metadata": {},
   "source": [
    "### Matrix V"
   ]
  },
  {
   "cell_type": "code",
   "execution_count": null,
   "metadata": {},
   "outputs": [],
   "source": [
    "model[np.argmin(u)].fuzzy_weight_matrix"
   ]
  },
  {
   "cell_type": "markdown",
   "metadata": {},
   "source": [
    "### Labels"
   ]
  },
  {
   "cell_type": "code",
   "execution_count": null,
   "metadata": {},
   "outputs": [],
   "source": [
    "model[np.argmin(u)].labels_"
   ]
  },
  {
   "cell_type": "code",
   "execution_count": null,
   "metadata": {},
   "outputs": [],
   "source": [
    "Counter(model[np.argmin(u)].labels_)"
   ]
  },
  {
   "cell_type": "markdown",
   "metadata": {},
   "source": [
    "### Loss History"
   ]
  },
  {
   "cell_type": "code",
   "execution_count": null,
   "metadata": {},
   "outputs": [],
   "source": [
    "# plot\n",
    "plt.plot(model[np.argmin(u)].loss_history)"
   ]
  },
  {
   "cell_type": "code",
   "execution_count": null,
   "metadata": {},
   "outputs": [],
   "source": []
  }
 ],
 "metadata": {
  "kernelspec": {
   "display_name": "pycode37",
   "language": "python",
   "name": "pycode37"
  },
  "language_info": {
   "codemirror_mode": {
    "name": "ipython",
    "version": 3
   },
   "file_extension": ".py",
   "mimetype": "text/x-python",
   "name": "python",
   "nbconvert_exporter": "python",
   "pygments_lexer": "ipython3",
   "version": "3.7.9"
  }
 },
 "nbformat": 4,
 "nbformat_minor": 4
}
