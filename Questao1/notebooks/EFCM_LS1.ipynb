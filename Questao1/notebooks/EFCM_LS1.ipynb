{
 "cells": [
  {
   "cell_type": "code",
   "execution_count": null,
   "metadata": {},
   "outputs": [],
   "source": [
    "from IPython.core.display import display, HTML\n",
    "display(HTML(\"<style>.container { width:85% !important; }</style>\"))\n",
    "import warnings\n",
    "warnings.filterwarnings('ignore')\n",
    "\n",
    "import sys,os\n",
    "sys.path.append('../')\n",
    "from collections import Counter\n",
    "\n",
    "from copy import copy,deepcopy\n",
    "\n",
    "import numpy as np\n",
    "import pandas as pd\n",
    "\n",
    "\n",
    "import seaborn as sns\n",
    "import matplotlib.pyplot as plt\n",
    "%matplotlib inline\n",
    "plt.style.use('bmh')\n",
    "\n",
    "from tqdm import tqdm_notebook as tqdm\n",
    "\n",
    "from sklearn.metrics import confusion_matrix, ConfusionMatrixDisplay\n",
    "\n",
    "from sklearn.preprocessing import StandardScaler,PowerTransformer,MinMaxScaler,RobustScaler\n",
    "from sklearn import preprocessing\n",
    "\n",
    "from efcm.cluster import EFCM_LS1\n",
    "from metrics import FMeasure, MPC, PE\n",
    "from sklearn.metrics import adjusted_rand_score\n",
    "from sklearn.metrics.cluster import pair_confusion_matrix"
   ]
  },
  {
   "cell_type": "markdown",
   "metadata": {},
   "source": [
    "### Load data"
   ]
  },
  {
   "cell_type": "code",
   "execution_count": null,
   "metadata": {},
   "outputs": [],
   "source": [
    "#### Data test Raw\n",
    "dataset_names =['dataset_01_raw_test','dataset_02_raw_test','dataset_03_raw_test']\n",
    " \n",
    "data_01 = pd.read_csv(os.path.join('../input/', '.'.join([dataset_names[0], 'csv'])))\n",
    "data_02 = pd.read_csv(os.path.join('../input/', '.'.join([dataset_names[1], 'csv'])))\n",
    "data_03 = pd.read_csv(os.path.join('../input/', '.'.join([dataset_names[2], 'csv'])))"
   ]
  },
  {
   "cell_type": "markdown",
   "metadata": {},
   "source": [
    "### View data"
   ]
  },
  {
   "cell_type": "code",
   "execution_count": null,
   "metadata": {},
   "outputs": [],
   "source": [
    "data_01.head()"
   ]
  },
  {
   "cell_type": "code",
   "execution_count": null,
   "metadata": {},
   "outputs": [],
   "source": [
    "data_02.head()"
   ]
  },
  {
   "cell_type": "code",
   "execution_count": null,
   "metadata": {},
   "outputs": [],
   "source": [
    "data_03.head()"
   ]
  },
  {
   "cell_type": "code",
   "execution_count": null,
   "metadata": {},
   "outputs": [],
   "source": [
    "print('Shape',data_01.shape,data_02.shape,data_03.shape)"
   ]
  },
  {
   "cell_type": "code",
   "execution_count": null,
   "metadata": {},
   "outputs": [],
   "source": [
    "X_data_01 = data_01.drop(columns='Target').values.copy()\n",
    "y_data_01 = data_01.Target.values.copy()\n",
    "X_data_02 = data_02.drop(columns='Target').values.copy()\n",
    "y_data_02 = data_02.Target.values.copy()\n",
    "X_data_03 = data_03.drop(columns='Target').values.copy()\n",
    "y_data_03 = data_03.Target.values.copy()"
   ]
  },
  {
   "cell_type": "code",
   "execution_count": null,
   "metadata": {},
   "outputs": [],
   "source": [
    "try:\n",
    "    assert y_data_01.all() == y_data_02.all() ==y_data_03.all()\n",
    "    y = y_data_01\n",
    "except:\n",
    "    print('Target invalid')"
   ]
  },
  {
   "cell_type": "markdown",
   "metadata": {},
   "source": [
    "### Parâmetros de T_u e T_V no diretório -- ../run_best_params"
   ]
  },
  {
   "cell_type": "markdown",
   "metadata": {},
   "source": [
    " - Dataset_01 : T_u=0.9  T_v=30.0\n",
    " - Dataset_02 : T_u=1.0  T_v=1000.0\n",
    " - Dataset_03 : T_u=5.0  T_v=10.0"
   ]
  },
  {
   "cell_type": "markdown",
   "metadata": {},
   "source": [
    "### Evaluate"
   ]
  },
  {
   "cell_type": "markdown",
   "metadata": {},
   "source": [
    "#### Dataset 1"
   ]
  },
  {
   "cell_type": "code",
   "execution_count": null,
   "metadata": {},
   "outputs": [],
   "source": [
    "clf1 = EFCM_LS1(n_cluster=7, theta_u=.9, theta_v=30.0, epsilon=1e-10, tol_iter=150, init='dirichlet')\n",
    "u1 = []\n",
    "epoch = 50\n",
    "model1 = []\n",
    "_ = [model1.append(deepcopy(clf1)) for _ in range(epoch)]\n",
    "for j in range(epoch):\n",
    "    model1[j].fit(X_data_01)\n",
    "    print('run:{} loss: {} '.format(j,model1[j].loss))\n",
    "    u1.append(model1[j].loss)"
   ]
  },
  {
   "cell_type": "code",
   "execution_count": null,
   "metadata": {},
   "outputs": [],
   "source": [
    "u1 = np.array(u1)\n",
    "np.argmin(u1),u1[np.argmin(u1)]"
   ]
  },
  {
   "cell_type": "code",
   "execution_count": null,
   "metadata": {},
   "outputs": [],
   "source": [
    "fuzzy1 = model1[np.argmin(u1)].fuzzy_matrix\n",
    "crisp1 = model1[np.argmin(u1)].labels_"
   ]
  },
  {
   "cell_type": "code",
   "execution_count": null,
   "metadata": {},
   "outputs": [],
   "source": [
    "print(\"Dataset 1:\")\n",
    "print(\"MPC: {}\\tPE: {}\".format(MPC(fuzzy1), PE(fuzzy1)))\n",
    "print(\"ARS: {}\\tFM: {}\".format(adjusted_rand_score(y_data_01, crisp1), FMeasure(y_data_01, crisp1)))\n",
    "print(Counter(crisp1))"
   ]
  },
  {
   "cell_type": "code",
   "execution_count": null,
   "metadata": {},
   "outputs": [],
   "source": [
    "# Features importance\n",
    "ax = sns.heatmap(model1[np.argmin(u1)].fuzzy_weight_matrix[6:7])\n",
    "plt.show()"
   ]
  },
  {
   "cell_type": "code",
   "execution_count": null,
   "metadata": {},
   "outputs": [],
   "source": [
    "ax = sns.heatmap(fuzzy1)\n",
    "plt.show()"
   ]
  },
  {
   "cell_type": "code",
   "execution_count": null,
   "metadata": {},
   "outputs": [],
   "source": [
    "model1[np.argmin(u1)].fuzzy_weight_matrix"
   ]
  },
  {
   "cell_type": "markdown",
   "metadata": {},
   "source": [
    "#### Dataset 2"
   ]
  },
  {
   "cell_type": "code",
   "execution_count": null,
   "metadata": {},
   "outputs": [],
   "source": [
    "clf2 = EFCM_LS1(n_cluster=7,theta_u=1.0 ,theta_v=1000.0,epsilon=1e-10,tol_iter=150,init='dirichlet')\n",
    "u2 = []\n",
    "epoch = 50\n",
    "model2 = []\n",
    "_ = [model2.append(deepcopy(clf2)) for _ in range(epoch)]\n",
    "for j in range(epoch):\n",
    "    model2[j].fit(X_data_02)\n",
    "    print('run:{} loss: {} '.format(j,model2[j].loss))\n",
    "    u2.append(model2[j].loss)"
   ]
  },
  {
   "cell_type": "code",
   "execution_count": null,
   "metadata": {},
   "outputs": [],
   "source": [
    "fuzzy2 = model2[np.argmin(u2)].fuzzy_matrix\n",
    "crisp2 = model2[np.argmin(u2)].labels_"
   ]
  },
  {
   "cell_type": "code",
   "execution_count": null,
   "metadata": {},
   "outputs": [],
   "source": [
    "print(\"Dataset 2:\")\n",
    "print(\"MPC: {}\\tPE: {}\".format(MPC(fuzzy2), PE(fuzzy2)))\n",
    "print(\"ARS: {}\\tFM: {}\".format(adjusted_rand_score(y_data_02, crisp2), FMeasure(y_data_02, crisp2)))\n",
    "print(Counter(crisp2))"
   ]
  },
  {
   "cell_type": "code",
   "execution_count": null,
   "metadata": {},
   "outputs": [],
   "source": [
    "ax = sns.heatmap(fuzzy2)\n",
    "plt.show()"
   ]
  },
  {
   "cell_type": "code",
   "execution_count": null,
   "metadata": {},
   "outputs": [],
   "source": [
    "model2[np.argmin(u2)].fuzzy_weight_matrix"
   ]
  },
  {
   "cell_type": "code",
   "execution_count": null,
   "metadata": {},
   "outputs": [],
   "source": [
    "# Features importance\n",
    "ax = sns.heatmap(model2[np.argmin(u2)].fuzzy_weight_matrix[6:7])\n",
    "plt.show()"
   ]
  },
  {
   "cell_type": "markdown",
   "metadata": {},
   "source": [
    "#### Dataset 3"
   ]
  },
  {
   "cell_type": "code",
   "execution_count": null,
   "metadata": {},
   "outputs": [],
   "source": [
    "clf3 = EFCM_LS1(n_cluster=7,theta_u=5.0 ,theta_v=10.0,epsilon=1e-10,tol_iter=150,init='dirichlet')\n",
    "u3 = []\n",
    "epoch = 50\n",
    "model3 = []\n",
    "_ = [model3.append(deepcopy(clf3)) for _ in range(epoch)]\n",
    "for j in range(epoch):\n",
    "    model3[j].fit(X_data_03)\n",
    "    print('run:{} loss: {} '.format(j,model3[j].loss))\n",
    "    u3.append(model3[j].loss)"
   ]
  },
  {
   "cell_type": "code",
   "execution_count": null,
   "metadata": {},
   "outputs": [],
   "source": [
    "fuzzy3 = model3[np.argmin(u3)].fuzzy_matrix\n",
    "crisp3 = model3[np.argmin(u3)].labels_"
   ]
  },
  {
   "cell_type": "code",
   "execution_count": null,
   "metadata": {},
   "outputs": [],
   "source": [
    "print(\"Dataset 3:\")\n",
    "print(\"MPC: {}\\tPE: {}\".format(MPC(fuzzy3), PE(fuzzy3)))\n",
    "print(\"ARS: {}\\tFM: {}\".format(adjusted_rand_score(y_data_03, crisp3), FMeasure(y_data_03, crisp3)))\n",
    "print(Counter(crisp3))"
   ]
  },
  {
   "cell_type": "code",
   "execution_count": null,
   "metadata": {},
   "outputs": [],
   "source": [
    "ax = sns.heatmap(fuzzy3)\n",
    "plt.show()"
   ]
  },
  {
   "cell_type": "code",
   "execution_count": null,
   "metadata": {},
   "outputs": [],
   "source": [
    "model3[np.argmin(u3)].fuzzy_weight_matrix"
   ]
  },
  {
   "cell_type": "code",
   "execution_count": null,
   "metadata": {},
   "outputs": [],
   "source": [
    "# Features importance\n",
    "ax = sns.heatmap(model3[np.argmin(u3)].fuzzy_weight_matrix[0:1])\n",
    "plt.show()"
   ]
  }
 ],
 "metadata": {
  "interpreter": {
   "hash": "266334e424d88184042804645b05b144a44c076c18798a1d43c9ebc1164a6b77"
  },
  "kernelspec": {
   "display_name": "pycode37",
   "language": "python",
   "name": "python3"
  },
  "language_info": {
   "codemirror_mode": {
    "name": "ipython",
    "version": 3
   },
   "file_extension": ".py",
   "mimetype": "text/x-python",
   "name": "python",
   "nbconvert_exporter": "python",
   "pygments_lexer": "ipython3",
   "version": "3.8.10"
  }
 },
 "nbformat": 4,
 "nbformat_minor": 4
}
